{
 "cells": [
  {
   "cell_type": "code",
   "execution_count": 6,
   "id": "fae0981d",
   "metadata": {},
   "outputs": [],
   "source": [
    "import great_expectations as ge\n",
    "my_df = ge.read_csv(\"population.csv\")"
   ]
  },
  {
   "cell_type": "code",
   "execution_count": 7,
   "id": "959349cb",
   "metadata": {},
   "outputs": [
    {
     "data": {
      "text/html": [
       "<div>\n",
       "<style scoped>\n",
       "    .dataframe tbody tr th:only-of-type {\n",
       "        vertical-align: middle;\n",
       "    }\n",
       "\n",
       "    .dataframe tbody tr th {\n",
       "        vertical-align: top;\n",
       "    }\n",
       "\n",
       "    .dataframe thead th {\n",
       "        text-align: right;\n",
       "    }\n",
       "</style>\n",
       "<table border=\"1\" class=\"dataframe\">\n",
       "  <thead>\n",
       "    <tr style=\"text-align: right;\">\n",
       "      <th></th>\n",
       "      <th>Unnamed: 0</th>\n",
       "      <th>City</th>\n",
       "      <th>Population</th>\n",
       "      <th>Area (km²)</th>\n",
       "      <th>Area (mi²)</th>\n",
       "      <th>Density (/km²)</th>\n",
       "      <th>Density (/mi²)</th>\n",
       "      <th>Country</th>\n",
       "    </tr>\n",
       "  </thead>\n",
       "  <tbody>\n",
       "    <tr>\n",
       "      <th>0</th>\n",
       "      <td>0</td>\n",
       "      <td>Malé</td>\n",
       "      <td>153,904[1]</td>\n",
       "      <td>1.956[1]</td>\n",
       "      <td>0.755</td>\n",
       "      <td>78683</td>\n",
       "      <td>203846.0</td>\n",
       "      <td>Maldives</td>\n",
       "    </tr>\n",
       "    <tr>\n",
       "      <th>1</th>\n",
       "      <td>1</td>\n",
       "      <td>Manila</td>\n",
       "      <td>1,660,714[2]</td>\n",
       "      <td>38.55[3]</td>\n",
       "      <td>14.88</td>\n",
       "      <td>43079</td>\n",
       "      <td>111576.0</td>\n",
       "      <td>Philippines</td>\n",
       "    </tr>\n",
       "    <tr>\n",
       "      <th>2</th>\n",
       "      <td>2</td>\n",
       "      <td>Bogor</td>\n",
       "      <td>866,034[4]</td>\n",
       "      <td>21.56[5]</td>\n",
       "      <td>8.32</td>\n",
       "      <td>40169</td>\n",
       "      <td>104037.0</td>\n",
       "      <td>Indonesia</td>\n",
       "    </tr>\n",
       "    <tr>\n",
       "      <th>3</th>\n",
       "      <td>3</td>\n",
       "      <td>Titagarh</td>\n",
       "      <td>124,213[6]</td>\n",
       "      <td>3.24[7]</td>\n",
       "      <td>1.25</td>\n",
       "      <td>38337</td>\n",
       "      <td>99293.0</td>\n",
       "      <td>India</td>\n",
       "    </tr>\n",
       "    <tr>\n",
       "      <th>4</th>\n",
       "      <td>4</td>\n",
       "      <td>Baranagar</td>\n",
       "      <td>250,768[6]</td>\n",
       "      <td>7.12[7]</td>\n",
       "      <td>2.75</td>\n",
       "      <td>35220</td>\n",
       "      <td>91220.0</td>\n",
       "      <td>India</td>\n",
       "    </tr>\n",
       "  </tbody>\n",
       "</table>\n",
       "</div>"
      ],
      "text/plain": [
       "   Unnamed: 0       City    Population Area (km²) Area (mi²)  Density (/km²)  \\\n",
       "0           0       Malé    153,904[1]   1.956[1]      0.755           78683   \n",
       "1           1     Manila  1,660,714[2]   38.55[3]      14.88           43079   \n",
       "2           2      Bogor    866,034[4]   21.56[5]       8.32           40169   \n",
       "3           3   Titagarh    124,213[6]    3.24[7]       1.25           38337   \n",
       "4           4  Baranagar    250,768[6]    7.12[7]       2.75           35220   \n",
       "\n",
       "   Density (/mi²)      Country  \n",
       "0        203846.0     Maldives  \n",
       "1        111576.0  Philippines  \n",
       "2        104037.0    Indonesia  \n",
       "3         99293.0        India  \n",
       "4         91220.0        India  "
      ]
     },
     "execution_count": 7,
     "metadata": {},
     "output_type": "execute_result"
    }
   ],
   "source": [
    "my_df.head()"
   ]
  },
  {
   "cell_type": "code",
   "execution_count": 14,
   "id": "52229254",
   "metadata": {},
   "outputs": [
    {
     "data": {
      "text/plain": [
       "{\n",
       "  \"meta\": {},\n",
       "  \"exception_info\": {\n",
       "    \"raised_exception\": false,\n",
       "    \"exception_traceback\": null,\n",
       "    \"exception_message\": null\n",
       "  },\n",
       "  \"success\": true,\n",
       "  \"result\": {\n",
       "    \"element_count\": 50,\n",
       "    \"missing_count\": 0,\n",
       "    \"missing_percent\": 0.0,\n",
       "    \"unexpected_count\": 0,\n",
       "    \"unexpected_percent\": 0.0,\n",
       "    \"unexpected_percent_total\": 0.0,\n",
       "    \"unexpected_percent_nonmissing\": 0.0,\n",
       "    \"partial_unexpected_list\": []\n",
       "  }\n",
       "}"
      ]
     },
     "execution_count": 14,
     "metadata": {},
     "output_type": "execute_result"
    }
   ],
   "source": [
    "my_df.expect_column_values_to_be_unique('City')"
   ]
  },
  {
   "cell_type": "code",
   "execution_count": 1,
   "id": "ab60836b",
   "metadata": {},
   "outputs": [
    {
     "name": "stderr",
     "output_type": "stream",
     "text": [
      "/opt/conda/lib/python3.10/site-packages/great_expectations/compatibility/sqlalchemy.py:20: UserWarning: SQLAlchemy v2.0.0 or later is not yet supported by Great Expectations.\n",
      "  warnings.warn(\n"
     ]
    },
    {
     "data": {
      "application/vnd.jupyter.widget-view+json": {
       "model_id": "505a4d18d7f74c32aada57c214963a2c",
       "version_major": 2,
       "version_minor": 0
      },
      "text/plain": [
       "Calculating Metrics:   0%|          | 0/6 [00:00<?, ?it/s]"
      ]
     },
     "metadata": {},
     "output_type": "display_data"
    },
    {
     "name": "stdout",
     "output_type": "stream",
     "text": [
      "\n"
     ]
    },
    {
     "data": {
      "application/vnd.jupyter.widget-view+json": {
       "model_id": "a2297b135425462d97fb9832913d29ac",
       "version_major": 2,
       "version_minor": 0
      },
      "text/plain": [
       "Generating Expectations:   0%|          | 0/1 [00:00<?, ?it/s]"
      ]
     },
     "metadata": {},
     "output_type": "display_data"
    },
    {
     "data": {
      "application/vnd.jupyter.widget-view+json": {
       "model_id": "935f6fdcf4804baa93f73e87e7f3a9fc",
       "version_major": 2,
       "version_minor": 0
      },
      "text/plain": [
       "Calculating Metrics:   0%|          | 0/2 [00:00<?, ?it/s]"
      ]
     },
     "metadata": {},
     "output_type": "display_data"
    },
    {
     "data": {
      "application/vnd.jupyter.widget-view+json": {
       "model_id": "068e32e142d148758d44fba69cbc35a7",
       "version_major": 2,
       "version_minor": 0
      },
      "text/plain": [
       "Calculating Metrics:   0%|          | 0/1 [00:00<?, ?it/s]"
      ]
     },
     "metadata": {},
     "output_type": "display_data"
    },
    {
     "data": {
      "application/vnd.jupyter.widget-view+json": {
       "model_id": "",
       "version_major": 2,
       "version_minor": 0
      },
      "text/plain": [
       "Profiling Dataset:         0%|          | 0/1 [00:00<?, ?it/s]"
      ]
     },
     "metadata": {},
     "output_type": "display_data"
    },
    {
     "data": {
      "application/vnd.jupyter.widget-view+json": {
       "model_id": "dca9e0c2e26f409b9a6b55f1e4bdb275",
       "version_major": 2,
       "version_minor": 0
      },
      "text/plain": [
       "Calculating Metrics:   0%|          | 0/4 [00:00<?, ?it/s]"
      ]
     },
     "metadata": {},
     "output_type": "display_data"
    },
    {
     "data": {
      "application/vnd.jupyter.widget-view+json": {
       "model_id": "93ac3fa92fc34e1ca299467f743c72f2",
       "version_major": 2,
       "version_minor": 0
      },
      "text/plain": [
       "Calculating Metrics:   0%|          | 0/4 [00:00<?, ?it/s]"
      ]
     },
     "metadata": {},
     "output_type": "display_data"
    },
    {
     "data": {
      "application/vnd.jupyter.widget-view+json": {
       "model_id": "5e3156fce2e646c9aeb02383d305af1c",
       "version_major": 2,
       "version_minor": 0
      },
      "text/plain": [
       "Calculating Metrics:   0%|          | 0/8 [00:00<?, ?it/s]"
      ]
     },
     "metadata": {},
     "output_type": "display_data"
    },
    {
     "data": {
      "application/vnd.jupyter.widget-view+json": {
       "model_id": "3764bff9c46544348fcd6ffd6bb056a0",
       "version_major": 2,
       "version_minor": 0
      },
      "text/plain": [
       "Calculating Metrics:   0%|          | 0/15 [00:00<?, ?it/s]"
      ]
     },
     "metadata": {},
     "output_type": "display_data"
    }
   ],
   "source": [
    "import great_expectations as gx\n",
    "\n",
    "\n",
    "# Set up\n",
    "context = gx.get_context()\n",
    "\n",
    "# Connect to data\n",
    "validator = context.sources.pandas_default.read_csv(\n",
    "    \"https://raw.githubusercontent.com/great-expectations/gx_tutorials/main/data/yellow_tripdata_sample_2019-01.csv\"\n",
    ")\n",
    "\n",
    "# Create Expectations\n",
    "validator.expect_column_values_to_not_be_null(\"pickup_datetime\")\n",
    "validator.expect_column_values_to_be_between(\"passenger_count\", auto=True)\n",
    "\n",
    "# Validate data\n",
    "checkpoint = gx.checkpoint.SimpleCheckpoint(\n",
    "    name=\"my_quickstart_checkpoint\",\n",
    "    data_context=context,\n",
    "    validator=validator,\n",
    ")\n",
    "\n",
    "checkpoint_result = checkpoint.run()\n",
    "\n",
    "# View results\n",
    "validation_result_identifier = checkpoint_result.list_validation_result_identifiers()[0]\n",
    "context.open_data_docs(resource_identifier=validation_result_identifier)"
   ]
  },
  {
   "cell_type": "code",
   "execution_count": 7,
   "id": "0d4db4ea",
   "metadata": {},
   "outputs": [
    {
     "data": {
      "application/vnd.jupyter.widget-view+json": {
       "model_id": "a349f57387ca45b0811bf7366560f487",
       "version_major": 2,
       "version_minor": 0
      },
      "text/plain": [
       "Calculating Metrics:   0%|          | 0/15 [00:00<?, ?it/s]"
      ]
     },
     "metadata": {},
     "output_type": "display_data"
    }
   ],
   "source": [
    "checkpoint_result = checkpoint.run()\n",
    "\n",
    "# View results\n",
    "validation_result_identifier = checkpoint_result.list_validation_result_identifiers()[0]\n",
    "context.open_data_docs(resource_identifier=validation_result_identifier)"
   ]
  },
  {
   "cell_type": "code",
   "execution_count": 10,
   "id": "cb7a9937",
   "metadata": {},
   "outputs": [],
   "source": [
    "context.open_data_docs()"
   ]
  }
 ],
 "metadata": {
  "kernelspec": {
   "display_name": "Python 3 (ipykernel)",
   "language": "python",
   "name": "python3"
  },
  "language_info": {
   "codemirror_mode": {
    "name": "ipython",
    "version": 3
   },
   "file_extension": ".py",
   "mimetype": "text/x-python",
   "name": "python",
   "nbconvert_exporter": "python",
   "pygments_lexer": "ipython3",
   "version": "3.10.10"
  }
 },
 "nbformat": 4,
 "nbformat_minor": 5
}
