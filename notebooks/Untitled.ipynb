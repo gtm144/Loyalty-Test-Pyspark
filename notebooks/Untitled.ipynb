{
 "cells": [
  {
   "cell_type": "code",
   "execution_count": 6,
   "id": "fae0981d",
   "metadata": {},
   "outputs": [],
   "source": [
    "import great_expectations as ge\n",
    "my_df = ge.read_csv(\"population.csv\")"
   ]
  },
  {
   "cell_type": "code",
   "execution_count": 7,
   "id": "959349cb",
   "metadata": {},
   "outputs": [
    {
     "data": {
      "text/html": [
       "<div>\n",
       "<style scoped>\n",
       "    .dataframe tbody tr th:only-of-type {\n",
       "        vertical-align: middle;\n",
       "    }\n",
       "\n",
       "    .dataframe tbody tr th {\n",
       "        vertical-align: top;\n",
       "    }\n",
       "\n",
       "    .dataframe thead th {\n",
       "        text-align: right;\n",
       "    }\n",
       "</style>\n",
       "<table border=\"1\" class=\"dataframe\">\n",
       "  <thead>\n",
       "    <tr style=\"text-align: right;\">\n",
       "      <th></th>\n",
       "      <th>Unnamed: 0</th>\n",
       "      <th>City</th>\n",
       "      <th>Population</th>\n",
       "      <th>Area (km²)</th>\n",
       "      <th>Area (mi²)</th>\n",
       "      <th>Density (/km²)</th>\n",
       "      <th>Density (/mi²)</th>\n",
       "      <th>Country</th>\n",
       "    </tr>\n",
       "  </thead>\n",
       "  <tbody>\n",
       "    <tr>\n",
       "      <th>0</th>\n",
       "      <td>0</td>\n",
       "      <td>Malé</td>\n",
       "      <td>153,904[1]</td>\n",
       "      <td>1.956[1]</td>\n",
       "      <td>0.755</td>\n",
       "      <td>78683</td>\n",
       "      <td>203846.0</td>\n",
       "      <td>Maldives</td>\n",
       "    </tr>\n",
       "    <tr>\n",
       "      <th>1</th>\n",
       "      <td>1</td>\n",
       "      <td>Manila</td>\n",
       "      <td>1,660,714[2]</td>\n",
       "      <td>38.55[3]</td>\n",
       "      <td>14.88</td>\n",
       "      <td>43079</td>\n",
       "      <td>111576.0</td>\n",
       "      <td>Philippines</td>\n",
       "    </tr>\n",
       "    <tr>\n",
       "      <th>2</th>\n",
       "      <td>2</td>\n",
       "      <td>Bogor</td>\n",
       "      <td>866,034[4]</td>\n",
       "      <td>21.56[5]</td>\n",
       "      <td>8.32</td>\n",
       "      <td>40169</td>\n",
       "      <td>104037.0</td>\n",
       "      <td>Indonesia</td>\n",
       "    </tr>\n",
       "    <tr>\n",
       "      <th>3</th>\n",
       "      <td>3</td>\n",
       "      <td>Titagarh</td>\n",
       "      <td>124,213[6]</td>\n",
       "      <td>3.24[7]</td>\n",
       "      <td>1.25</td>\n",
       "      <td>38337</td>\n",
       "      <td>99293.0</td>\n",
       "      <td>India</td>\n",
       "    </tr>\n",
       "    <tr>\n",
       "      <th>4</th>\n",
       "      <td>4</td>\n",
       "      <td>Baranagar</td>\n",
       "      <td>250,768[6]</td>\n",
       "      <td>7.12[7]</td>\n",
       "      <td>2.75</td>\n",
       "      <td>35220</td>\n",
       "      <td>91220.0</td>\n",
       "      <td>India</td>\n",
       "    </tr>\n",
       "  </tbody>\n",
       "</table>\n",
       "</div>"
      ],
      "text/plain": [
       "   Unnamed: 0       City    Population Area (km²) Area (mi²)  Density (/km²)  \\\n",
       "0           0       Malé    153,904[1]   1.956[1]      0.755           78683   \n",
       "1           1     Manila  1,660,714[2]   38.55[3]      14.88           43079   \n",
       "2           2      Bogor    866,034[4]   21.56[5]       8.32           40169   \n",
       "3           3   Titagarh    124,213[6]    3.24[7]       1.25           38337   \n",
       "4           4  Baranagar    250,768[6]    7.12[7]       2.75           35220   \n",
       "\n",
       "   Density (/mi²)      Country  \n",
       "0        203846.0     Maldives  \n",
       "1        111576.0  Philippines  \n",
       "2        104037.0    Indonesia  \n",
       "3         99293.0        India  \n",
       "4         91220.0        India  "
      ]
     },
     "execution_count": 7,
     "metadata": {},
     "output_type": "execute_result"
    }
   ],
   "source": [
    "my_df.head()"
   ]
  },
  {
   "cell_type": "code",
   "execution_count": 14,
   "id": "52229254",
   "metadata": {},
   "outputs": [
    {
     "data": {
      "text/plain": [
       "{\n",
       "  \"meta\": {},\n",
       "  \"exception_info\": {\n",
       "    \"raised_exception\": false,\n",
       "    \"exception_traceback\": null,\n",
       "    \"exception_message\": null\n",
       "  },\n",
       "  \"success\": true,\n",
       "  \"result\": {\n",
       "    \"element_count\": 50,\n",
       "    \"missing_count\": 0,\n",
       "    \"missing_percent\": 0.0,\n",
       "    \"unexpected_count\": 0,\n",
       "    \"unexpected_percent\": 0.0,\n",
       "    \"unexpected_percent_total\": 0.0,\n",
       "    \"unexpected_percent_nonmissing\": 0.0,\n",
       "    \"partial_unexpected_list\": []\n",
       "  }\n",
       "}"
      ]
     },
     "execution_count": 14,
     "metadata": {},
     "output_type": "execute_result"
    }
   ],
   "source": [
    "my_df.expect_column_values_to_be_unique('City')"
   ]
  },
  {
   "cell_type": "code",
   "execution_count": 15,
   "id": "ab60836b",
   "metadata": {},
   "outputs": [
    {
     "data": {
      "text/plain": [
       "{\n",
       "  \"meta\": {\n",
       "    \"great_expectations_version\": \"0.16.8\"\n",
       "  },\n",
       "  \"ge_cloud_id\": null,\n",
       "  \"expectations\": [\n",
       "    {\n",
       "      \"meta\": {},\n",
       "      \"expectation_type\": \"expect_column_values_to_be_unique\",\n",
       "      \"kwargs\": {\n",
       "        \"column\": \"City\"\n",
       "      }\n",
       "    }\n",
       "  ],\n",
       "  \"expectation_suite_name\": \"default\",\n",
       "  \"data_asset_type\": \"Dataset\"\n",
       "}"
      ]
     },
     "execution_count": 15,
     "metadata": {},
     "output_type": "execute_result"
    }
   ],
   "source": [
    "my_df.get_expectation_suite()"
   ]
  }
 ],
 "metadata": {
  "kernelspec": {
   "display_name": "Python 3 (ipykernel)",
   "language": "python",
   "name": "python3"
  },
  "language_info": {
   "codemirror_mode": {
    "name": "ipython",
    "version": 3
   },
   "file_extension": ".py",
   "mimetype": "text/x-python",
   "name": "python",
   "nbconvert_exporter": "python",
   "pygments_lexer": "ipython3",
   "version": "3.10.10"
  }
 },
 "nbformat": 4,
 "nbformat_minor": 5
}
