{
 "cells": [
  {
   "cell_type": "code",
   "execution_count": 8,
   "id": "47206a3b",
   "metadata": {},
   "outputs": [],
   "source": [
    "import great_expectations as ge\n",
    "context = ge.data_context.DataContext()"
   ]
  },
  {
   "cell_type": "code",
   "execution_count": 9,
   "id": "87d767aa",
   "metadata": {},
   "outputs": [],
   "source": [
    "from dotenv import load_dotenv\n",
    "from great_expectations.dataset.sparkdf_dataset import SparkDFDataset\n",
    "import os\n",
    "\n",
    "load_dotenv()\n",
    "s3_access_key = os.environ.get(\"S3_ACCESS_KEY\")\n",
    "s3_secret_key = os.environ.get(\"S3_SECRET_KEY\")\n",
    "CORES = 2 # Remember to use 2 cores for laptop work and 4 cores for local machine"
   ]
  },
  {
   "cell_type": "markdown",
   "id": "c8c4e431",
   "metadata": {},
   "source": [
    "- Common columns\n",
    "- Different columns\n",
    "- Compare data for common columns in both files\n",
    "- Difference in the amount of items stored in each parquet file\n",
    "- Count and group the occurrences of the value “trustRate” in each file\n",
    "- Count and group the occurrences of the value “humanId” in each file\n",
    "- Determine based on the contents of the compared files whether there is a major or critical difference in terms of data\n",
    "- Any additional statistical information considered useful is appreciated (within the context of an identity resolution process)\n",
    "\n",
    "1. Compare A to B in notebook with ge\n",
    "2. See how to integrate with CI-CD\n",
    "3. Final work"
   ]
  },
  {
   "cell_type": "code",
   "execution_count": 10,
   "id": "8a76b63f",
   "metadata": {},
   "outputs": [],
   "source": [
    "from pyspark.sql import SparkSession\n",
    "\n",
    "spark = SparkSession.builder \\\n",
    "    .appName(\"Loyalty\") \\\n",
    "    .config(\"spark.master\", f\"local[{CORES}]\") \\\n",
    "    .config(\"spark.executor.cores\", f\"{CORES}\") \\\n",
    "    .config(\"spark.jars.packages\",\"org.apache.hadoop:hadoop-aws:3.3.1\") \\\n",
    "    .config(\"spark.hadoop.fs.s3a.impl\", \"org.apache.hadoop.fs.s3a.S3AFileSystem\") \\\n",
    "    .config(\"spark.hadoop.fs.s3a.access.key\", s3_access_key) \\\n",
    "    .config(\"spark.hadoop.fs.s3a.secret.key\", s3_secret_key) \\\n",
    "    .getOrCreate()"
   ]
  },
  {
   "cell_type": "code",
   "execution_count": 11,
   "id": "e4fd7444",
   "metadata": {},
   "outputs": [],
   "source": [
    "#Fetch results A, B and C parquets data from S3 \n",
    "df_results_a = spark.read.parquet(\"s3a://data-test-202302/adstra/resultsA.parquet\")\n",
    "df_results_b = spark.read.parquet(\"s3a://data-test-202302/adstra/resultsB.parquet\")\n",
    "df_results_c = spark.read.parquet(\"s3a://data-test-202302/adstra/resultsC.parquet\")"
   ]
  },
  {
   "cell_type": "code",
   "execution_count": 12,
   "id": "bf098927",
   "metadata": {},
   "outputs": [
    {
     "name": "stdout",
     "output_type": "stream",
     "text": [
      "+--------+------+------+--------------------+--------+-------+-----+----------+----------+-------+--------------------+---------+\n",
      "|   index| fname| lname|               email|socialid|country|state|    mobile|     phone|zipcode|             humanId|trustRate|\n",
      "+--------+------+------+--------------------+--------+-------+-----+----------+----------+-------+--------------------+---------+\n",
      "|r0000001| james|robles|    person1@mail.net|774121t9|     mx|   tj|9991200767|8881200767|  49162|ae7b5b63-da1c-493...|       80|\n",
      "|r0000002|daniel| boyle|roddaniel445@comp...|998112a4|     ca|   on|9991200610|8881200610|  20883|89abf215-f658-4a0...|       50|\n",
      "|r0000003|  xxxx| xxxxx|              xxxxxx|878445b2|     us|   fl|      null|      null|   null|                null|        0|\n",
      "|r0000004| marie| velez|marie.rodarte123@...|798125x4|     ca|   ot|9991200114|8881200114|  61415|19ce37e6-2edf-41e...|       50|\n",
      "|r0000005|MARTIN|TORRES|not.provided@abc.com|981210o2|     us|   ca|9991200276|8881200276|  61415|3b068d0c-3671-45c...|       60|\n",
      "+--------+------+------+--------------------+--------+-------+-----+----------+----------+-------+--------------------+---------+\n",
      "only showing top 5 rows\n",
      "\n"
     ]
    }
   ],
   "source": [
    "df_results_a.show(5)"
   ]
  },
  {
   "cell_type": "code",
   "execution_count": null,
   "id": "9fa435e7",
   "metadata": {},
   "outputs": [],
   "source": [
    "df_results_b.show(5)"
   ]
  },
  {
   "cell_type": "code",
   "execution_count": 13,
   "id": "a8e906f2",
   "metadata": {},
   "outputs": [],
   "source": [
    "ge_results_a = SparkDFDataset(df_results_a)\n",
    "ge_results_b = SparkDFDataset(df_results_b)\n",
    "#df_results_c = SparkDFDataset(df_results_c)"
   ]
  },
  {
   "cell_type": "code",
   "execution_count": 11,
   "id": "8272c25a",
   "metadata": {},
   "outputs": [],
   "source": [
    "context = ge.get_context()\n",
    "context.create_expectation_suite(\"exploration\")"
   ]
  },
  {
   "cell_type": "code",
   "execution_count": 14,
   "id": "fbf70b53",
   "metadata": {},
   "outputs": [],
   "source": [
    "ge_results_b.expect_column_values_to_not_be_null(\"lname\")"
   ]
  },
  {
   "cell_type": "code",
   "execution_count": 15,
   "id": "f86211d1",
   "metadata": {},
   "outputs": [
    {
     "name": "stdout",
     "output_type": "stream",
     "text": [
      "{\n",
      "  \"success\": false,\n",
      "  \"meta\": {},\n",
      "  \"result\": {\n",
      "    \"element_count\": 12,\n",
      "    \"missing_count\": 0,\n",
      "    \"missing_percent\": 0.0,\n",
      "    \"unexpected_count\": 2,\n",
      "    \"unexpected_percent\": 16.666666666666664,\n",
      "    \"unexpected_percent_total\": 16.666666666666664,\n",
      "    \"unexpected_percent_nonmissing\": 16.666666666666664,\n",
      "    \"partial_unexpected_list\": [\n",
      "      \"state\",\n",
      "      \"zipcode\"\n",
      "    ]\n",
      "  },\n",
      "  \"exception_info\": {\n",
      "    \"raised_exception\": false,\n",
      "    \"exception_traceback\": null,\n",
      "    \"exception_message\": null\n",
      "  },\n",
      "  \"expectation_config\": {\n",
      "    \"meta\": {},\n",
      "    \"expectation_type\": \"expect_column_values_to_be_in_set\",\n",
      "    \"kwargs\": {\n",
      "      \"column\": \"column_name\",\n",
      "      \"value_set\": [\n",
      "        \"index\",\n",
      "        \"fname\",\n",
      "        \"lname\",\n",
      "        \"email\",\n",
      "        \"socialid\",\n",
      "        \"country\",\n",
      "        \"mobile\",\n",
      "        \"phone\",\n",
      "        \"gender\",\n",
      "        \"humanId\",\n",
      "        \"trustRate\"\n",
      "      ],\n",
      "      \"result_format\": \"BASIC\"\n",
      "    }\n",
      "  }\n",
      "}\n"
     ]
    }
   ],
   "source": [
    "# Compare columns with ge A - B\n",
    "\n",
    "columns_a = df_results_a.columns\n",
    "columns_b = df_results_b.columns\n",
    "\n",
    "dataset = ge.dataset.PandasDataset({'column_name': columns_a})\n",
    "dataset.expect_column_values_to_be_in_set('column_name', columns_b)\n",
    "\n",
    "print(result)\n"
   ]
  },
  {
   "cell_type": "code",
   "execution_count": 21,
   "id": "cacc98c9",
   "metadata": {},
   "outputs": [
    {
     "data": {
      "text/plain": [
       "{\n",
       "  \"expectations\": [\n",
       "    {\n",
       "      \"meta\": {},\n",
       "      \"expectation_type\": \"expect_column_values_to_not_be_null\",\n",
       "      \"kwargs\": {\n",
       "        \"column\": \"lname\"\n",
       "      }\n",
       "    }\n",
       "  ],\n",
       "  \"meta\": {\n",
       "    \"great_expectations_version\": \"0.16.10\"\n",
       "  },\n",
       "  \"data_asset_type\": \"Dataset\",\n",
       "  \"ge_cloud_id\": null,\n",
       "  \"expectation_suite_name\": \"default\"\n",
       "}"
      ]
     },
     "execution_count": 21,
     "metadata": {},
     "output_type": "execute_result"
    }
   ],
   "source": [
    "ge_results_b.get_expectation_suite(discard_failed_expectations=False)"
   ]
  },
  {
   "cell_type": "code",
   "execution_count": 24,
   "id": "49b3c709",
   "metadata": {},
   "outputs": [],
   "source": [
    "ge_results_b.save_expectation_suite(\"my_expectation_suite.json\")"
   ]
  },
  {
   "cell_type": "code",
   "execution_count": 26,
   "id": "fc5d1689",
   "metadata": {},
   "outputs": [
    {
     "data": {
      "text/plain": [
       "{'local_site': 'file:///app/great_expectations/uncommitted/data_docs/local_site/index.html'}"
      ]
     },
     "execution_count": 26,
     "metadata": {},
     "output_type": "execute_result"
    }
   ],
   "source": [
    "context.build_data_docs()"
   ]
  },
  {
   "cell_type": "code",
   "execution_count": 36,
   "id": "4841db44",
   "metadata": {},
   "outputs": [
    {
     "ename": "TypeError",
     "evalue": "DataAsset.validate() got an unexpected keyword argument 'checkpoint_name'",
     "output_type": "error",
     "traceback": [
      "\u001b[0;31m---------------------------------------------------------------------------\u001b[0m",
      "\u001b[0;31mTypeError\u001b[0m                                 Traceback (most recent call last)",
      "Cell \u001b[0;32mIn[36], line 6\u001b[0m\n\u001b[1;32m      1\u001b[0m checkpoint \u001b[38;5;241m=\u001b[39m ge\u001b[38;5;241m.\u001b[39mcheckpoint\u001b[38;5;241m.\u001b[39mSimpleCheckpoint(\n\u001b[1;32m      2\u001b[0m     name\u001b[38;5;241m=\u001b[39m\u001b[38;5;124m\"\u001b[39m\u001b[38;5;124mmy_name_checkpoint\u001b[39m\u001b[38;5;124m\"\u001b[39m,\n\u001b[1;32m      3\u001b[0m     data_context\u001b[38;5;241m=\u001b[39mcontext,\n\u001b[1;32m      4\u001b[0m     validator\u001b[38;5;241m=\u001b[39mge_results_b\n\u001b[1;32m      5\u001b[0m )\n\u001b[0;32m----> 6\u001b[0m checkpoint_result \u001b[38;5;241m=\u001b[39m \u001b[43mcheckpoint\u001b[49m\u001b[38;5;241;43m.\u001b[39;49m\u001b[43mrun\u001b[49m\u001b[43m(\u001b[49m\u001b[43m)\u001b[49m\n",
      "File \u001b[0;32m/opt/conda/lib/python3.10/site-packages/great_expectations/checkpoint/checkpoint.py:1504\u001b[0m, in \u001b[0;36mSimpleCheckpoint.run\u001b[0;34m(self, template_name, run_name_template, expectation_suite_name, batch_request, validator, action_list, evaluation_parameters, runtime_configuration, validations, profilers, run_id, run_name, run_time, result_format, site_names, slack_webhook, notify_on, notify_with, expectation_suite_ge_cloud_id)\u001b[0m\n\u001b[1;32m   1493\u001b[0m \u001b[38;5;28;01mif\u001b[39;00m \u001b[38;5;28many\u001b[39m((site_names, slack_webhook, notify_on, notify_with)):\n\u001b[1;32m   1494\u001b[0m     new_baseline_config \u001b[38;5;241m=\u001b[39m \u001b[38;5;28mself\u001b[39m\u001b[38;5;241m.\u001b[39m_configurator_class(\n\u001b[1;32m   1495\u001b[0m         name\u001b[38;5;241m=\u001b[39m\u001b[38;5;28mself\u001b[39m\u001b[38;5;241m.\u001b[39mname,\n\u001b[1;32m   1496\u001b[0m         data_context\u001b[38;5;241m=\u001b[39m\u001b[38;5;28mself\u001b[39m\u001b[38;5;241m.\u001b[39mdata_context,\n\u001b[0;32m   (...)\u001b[0m\n\u001b[1;32m   1501\u001b[0m         notify_with\u001b[38;5;241m=\u001b[39mnotify_with,\n\u001b[1;32m   1502\u001b[0m     )\u001b[38;5;241m.\u001b[39mbuild()\n\u001b[0;32m-> 1504\u001b[0m \u001b[38;5;28;01mreturn\u001b[39;00m \u001b[38;5;28;43msuper\u001b[39;49m\u001b[43m(\u001b[49m\u001b[43m)\u001b[49m\u001b[38;5;241;43m.\u001b[39;49m\u001b[43mrun\u001b[49m\u001b[43m(\u001b[49m\n\u001b[1;32m   1505\u001b[0m \u001b[43m    \u001b[49m\u001b[43mtemplate_name\u001b[49m\u001b[38;5;241;43m=\u001b[39;49m\u001b[43mtemplate_name\u001b[49m\u001b[43m,\u001b[49m\n\u001b[1;32m   1506\u001b[0m \u001b[43m    \u001b[49m\u001b[43mrun_name_template\u001b[49m\u001b[38;5;241;43m=\u001b[39;49m\u001b[43mrun_name_template\u001b[49m\u001b[43m,\u001b[49m\n\u001b[1;32m   1507\u001b[0m \u001b[43m    \u001b[49m\u001b[43mexpectation_suite_name\u001b[49m\u001b[38;5;241;43m=\u001b[39;49m\u001b[43mexpectation_suite_name\u001b[49m\u001b[43m,\u001b[49m\n\u001b[1;32m   1508\u001b[0m \u001b[43m    \u001b[49m\u001b[43mbatch_request\u001b[49m\u001b[38;5;241;43m=\u001b[39;49m\u001b[43mbatch_request\u001b[49m\u001b[43m,\u001b[49m\n\u001b[1;32m   1509\u001b[0m \u001b[43m    \u001b[49m\u001b[43mvalidator\u001b[49m\u001b[38;5;241;43m=\u001b[39;49m\u001b[43mvalidator\u001b[49m\u001b[43m,\u001b[49m\n\u001b[1;32m   1510\u001b[0m \u001b[43m    \u001b[49m\u001b[43maction_list\u001b[49m\u001b[38;5;241;43m=\u001b[39;49m\u001b[43mnew_baseline_config\u001b[49m\u001b[38;5;241;43m.\u001b[39;49m\u001b[43maction_list\u001b[49m\n\u001b[1;32m   1511\u001b[0m \u001b[43m    \u001b[49m\u001b[38;5;28;43;01mif\u001b[39;49;00m\u001b[43m \u001b[49m\u001b[43mnew_baseline_config\u001b[49m\n\u001b[1;32m   1512\u001b[0m \u001b[43m    \u001b[49m\u001b[38;5;28;43;01melse\u001b[39;49;00m\u001b[43m \u001b[49m\u001b[43maction_list\u001b[49m\u001b[43m,\u001b[49m\n\u001b[1;32m   1513\u001b[0m \u001b[43m    \u001b[49m\u001b[43mevaluation_parameters\u001b[49m\u001b[38;5;241;43m=\u001b[39;49m\u001b[43mevaluation_parameters\u001b[49m\u001b[43m,\u001b[49m\n\u001b[1;32m   1514\u001b[0m \u001b[43m    \u001b[49m\u001b[43mruntime_configuration\u001b[49m\u001b[38;5;241;43m=\u001b[39;49m\u001b[43mruntime_configuration\u001b[49m\u001b[43m,\u001b[49m\n\u001b[1;32m   1515\u001b[0m \u001b[43m    \u001b[49m\u001b[43mvalidations\u001b[49m\u001b[38;5;241;43m=\u001b[39;49m\u001b[43mvalidations\u001b[49m\u001b[43m,\u001b[49m\n\u001b[1;32m   1516\u001b[0m \u001b[43m    \u001b[49m\u001b[43mprofilers\u001b[49m\u001b[38;5;241;43m=\u001b[39;49m\u001b[43mprofilers\u001b[49m\u001b[43m,\u001b[49m\n\u001b[1;32m   1517\u001b[0m \u001b[43m    \u001b[49m\u001b[43mrun_id\u001b[49m\u001b[38;5;241;43m=\u001b[39;49m\u001b[43mrun_id\u001b[49m\u001b[43m,\u001b[49m\n\u001b[1;32m   1518\u001b[0m \u001b[43m    \u001b[49m\u001b[43mrun_name\u001b[49m\u001b[38;5;241;43m=\u001b[39;49m\u001b[43mrun_name\u001b[49m\u001b[43m,\u001b[49m\n\u001b[1;32m   1519\u001b[0m \u001b[43m    \u001b[49m\u001b[43mrun_time\u001b[49m\u001b[38;5;241;43m=\u001b[39;49m\u001b[43mrun_time\u001b[49m\u001b[43m,\u001b[49m\n\u001b[1;32m   1520\u001b[0m \u001b[43m    \u001b[49m\u001b[43mresult_format\u001b[49m\u001b[38;5;241;43m=\u001b[39;49m\u001b[43mresult_format\u001b[49m\u001b[43m,\u001b[49m\n\u001b[1;32m   1521\u001b[0m \u001b[43m    \u001b[49m\u001b[43mexpectation_suite_ge_cloud_id\u001b[49m\u001b[38;5;241;43m=\u001b[39;49m\u001b[43mexpectation_suite_ge_cloud_id\u001b[49m\u001b[43m,\u001b[49m\n\u001b[1;32m   1522\u001b[0m \u001b[43m\u001b[49m\u001b[43m)\u001b[49m\n",
      "File \u001b[0;32m/opt/conda/lib/python3.10/site-packages/great_expectations/core/usage_statistics/usage_statistics.py:318\u001b[0m, in \u001b[0;36musage_statistics_enabled_method.<locals>.usage_statistics_wrapped_method\u001b[0;34m(*args, **kwargs)\u001b[0m\n\u001b[1;32m    315\u001b[0m         args_payload \u001b[38;5;241m=\u001b[39m args_payload_fn(\u001b[38;5;241m*\u001b[39margs, \u001b[38;5;241m*\u001b[39m\u001b[38;5;241m*\u001b[39mkwargs) \u001b[38;5;129;01mor\u001b[39;00m {}\n\u001b[1;32m    316\u001b[0m         nested_update(event_payload, args_payload)\n\u001b[0;32m--> 318\u001b[0m     result \u001b[38;5;241m=\u001b[39m \u001b[43mfunc\u001b[49m\u001b[43m(\u001b[49m\u001b[38;5;241;43m*\u001b[39;49m\u001b[43margs\u001b[49m\u001b[43m,\u001b[49m\u001b[43m \u001b[49m\u001b[38;5;241;43m*\u001b[39;49m\u001b[38;5;241;43m*\u001b[39;49m\u001b[43mkwargs\u001b[49m\u001b[43m)\u001b[49m\n\u001b[1;32m    319\u001b[0m     message[\u001b[38;5;124m\"\u001b[39m\u001b[38;5;124msuccess\u001b[39m\u001b[38;5;124m\"\u001b[39m] \u001b[38;5;241m=\u001b[39m \u001b[38;5;28;01mTrue\u001b[39;00m\n\u001b[1;32m    320\u001b[0m \u001b[38;5;28;01mexcept\u001b[39;00m \u001b[38;5;167;01mException\u001b[39;00m:\n",
      "File \u001b[0;32m/opt/conda/lib/python3.10/site-packages/great_expectations/checkpoint/checkpoint.py:306\u001b[0m, in \u001b[0;36mBaseCheckpoint.run\u001b[0;34m(self, template_name, run_name_template, expectation_suite_name, batch_request, validator, action_list, evaluation_parameters, runtime_configuration, validations, profilers, run_id, run_name, run_time, result_format, expectation_suite_ge_cloud_id)\u001b[0m\n\u001b[1;32m    296\u001b[0m         \u001b[38;5;28mself\u001b[39m\u001b[38;5;241m.\u001b[39m_run_validation(\n\u001b[1;32m    297\u001b[0m             substituted_runtime_config\u001b[38;5;241m=\u001b[39msubstituted_runtime_config,\n\u001b[1;32m    298\u001b[0m             async_validation_operator_results\u001b[38;5;241m=\u001b[39masync_validation_operator_results,\n\u001b[0;32m   (...)\u001b[0m\n\u001b[1;32m    303\u001b[0m             validation_dict\u001b[38;5;241m=\u001b[39mvalidation_dict,\n\u001b[1;32m    304\u001b[0m         )\n\u001b[1;32m    305\u001b[0m \u001b[38;5;28;01melse\u001b[39;00m:\n\u001b[0;32m--> 306\u001b[0m     \u001b[38;5;28;43mself\u001b[39;49m\u001b[38;5;241;43m.\u001b[39;49m\u001b[43m_run_validation\u001b[49m\u001b[43m(\u001b[49m\n\u001b[1;32m    307\u001b[0m \u001b[43m        \u001b[49m\u001b[43msubstituted_runtime_config\u001b[49m\u001b[38;5;241;43m=\u001b[39;49m\u001b[43msubstituted_runtime_config\u001b[49m\u001b[43m,\u001b[49m\n\u001b[1;32m    308\u001b[0m \u001b[43m        \u001b[49m\u001b[43masync_validation_operator_results\u001b[49m\u001b[38;5;241;43m=\u001b[39;49m\u001b[43masync_validation_operator_results\u001b[49m\u001b[43m,\u001b[49m\n\u001b[1;32m    309\u001b[0m \u001b[43m        \u001b[49m\u001b[43masync_executor\u001b[49m\u001b[38;5;241;43m=\u001b[39;49m\u001b[43masync_executor\u001b[49m\u001b[43m,\u001b[49m\n\u001b[1;32m    310\u001b[0m \u001b[43m        \u001b[49m\u001b[43mresult_format\u001b[49m\u001b[38;5;241;43m=\u001b[39;49m\u001b[43mresult_format\u001b[49m\u001b[43m,\u001b[49m\n\u001b[1;32m    311\u001b[0m \u001b[43m        \u001b[49m\u001b[43mrun_id\u001b[49m\u001b[38;5;241;43m=\u001b[39;49m\u001b[43mrun_id\u001b[49m\u001b[43m,\u001b[49m\n\u001b[1;32m    312\u001b[0m \u001b[43m    \u001b[49m\u001b[43m)\u001b[49m\n\u001b[1;32m    314\u001b[0m checkpoint_run_results: \u001b[38;5;28mdict\u001b[39m \u001b[38;5;241m=\u001b[39m {}\n\u001b[1;32m    315\u001b[0m async_validation_operator_result: AsyncResult\n",
      "File \u001b[0;32m/opt/conda/lib/python3.10/site-packages/great_expectations/checkpoint/checkpoint.py:513\u001b[0m, in \u001b[0;36mBaseCheckpoint._run_validation\u001b[0;34m(self, substituted_runtime_config, async_validation_operator_results, async_executor, result_format, run_id, idx, validation_dict)\u001b[0m\n\u001b[1;32m    509\u001b[0m         operator_run_kwargs[\u001b[38;5;124m\"\u001b[39m\u001b[38;5;124mcatch_exceptions\u001b[39m\u001b[38;5;124m\"\u001b[39m] \u001b[38;5;241m=\u001b[39m catch_exceptions_validation\n\u001b[1;32m    511\u001b[0m     validation_id: Optional[\u001b[38;5;28mstr\u001b[39m] \u001b[38;5;241m=\u001b[39m substituted_validation_dict\u001b[38;5;241m.\u001b[39mget(\u001b[38;5;124m\"\u001b[39m\u001b[38;5;124mid\u001b[39m\u001b[38;5;124m\"\u001b[39m)\n\u001b[0;32m--> 513\u001b[0m     async_validation_operator_result \u001b[38;5;241m=\u001b[39m \u001b[43masync_executor\u001b[49m\u001b[38;5;241;43m.\u001b[39;49m\u001b[43msubmit\u001b[49m\u001b[43m(\u001b[49m\n\u001b[1;32m    514\u001b[0m \u001b[43m        \u001b[49m\u001b[43maction_list_validation_operator\u001b[49m\u001b[38;5;241;43m.\u001b[39;49m\u001b[43mrun\u001b[49m\u001b[43m,\u001b[49m\n\u001b[1;32m    515\u001b[0m \u001b[43m        \u001b[49m\u001b[43massets_to_validate\u001b[49m\u001b[38;5;241;43m=\u001b[39;49m\u001b[43m[\u001b[49m\u001b[43mvalidator\u001b[49m\u001b[43m]\u001b[49m\u001b[43m,\u001b[49m\n\u001b[1;32m    516\u001b[0m \u001b[43m        \u001b[49m\u001b[43mrun_id\u001b[49m\u001b[38;5;241;43m=\u001b[39;49m\u001b[43mrun_id\u001b[49m\u001b[43m,\u001b[49m\n\u001b[1;32m    517\u001b[0m \u001b[43m        \u001b[49m\u001b[43mevaluation_parameters\u001b[49m\u001b[38;5;241;43m=\u001b[39;49m\u001b[43msubstituted_validation_dict\u001b[49m\u001b[38;5;241;43m.\u001b[39;49m\u001b[43mget\u001b[49m\u001b[43m(\u001b[49m\n\u001b[1;32m    518\u001b[0m \u001b[43m            \u001b[49m\u001b[38;5;124;43m\"\u001b[39;49m\u001b[38;5;124;43mevaluation_parameters\u001b[39;49m\u001b[38;5;124;43m\"\u001b[39;49m\n\u001b[1;32m    519\u001b[0m \u001b[43m        \u001b[49m\u001b[43m)\u001b[49m\u001b[43m,\u001b[49m\n\u001b[1;32m    520\u001b[0m \u001b[43m        \u001b[49m\u001b[43mresult_format\u001b[49m\u001b[38;5;241;43m=\u001b[39;49m\u001b[43mresult_format\u001b[49m\u001b[43m,\u001b[49m\n\u001b[1;32m    521\u001b[0m \u001b[43m        \u001b[49m\u001b[43mcheckpoint_identifier\u001b[49m\u001b[38;5;241;43m=\u001b[39;49m\u001b[43mcheckpoint_identifier\u001b[49m\u001b[43m,\u001b[49m\n\u001b[1;32m    522\u001b[0m \u001b[43m        \u001b[49m\u001b[43mcheckpoint_name\u001b[49m\u001b[38;5;241;43m=\u001b[39;49m\u001b[38;5;28;43mself\u001b[39;49m\u001b[38;5;241;43m.\u001b[39;49m\u001b[43mname\u001b[49m\u001b[43m,\u001b[49m\n\u001b[1;32m    523\u001b[0m \u001b[43m        \u001b[49m\u001b[43mvalidation_id\u001b[49m\u001b[38;5;241;43m=\u001b[39;49m\u001b[43mvalidation_id\u001b[49m\u001b[43m,\u001b[49m\n\u001b[1;32m    524\u001b[0m \u001b[43m        \u001b[49m\u001b[38;5;241;43m*\u001b[39;49m\u001b[38;5;241;43m*\u001b[39;49m\u001b[43moperator_run_kwargs\u001b[49m\u001b[43m,\u001b[49m\n\u001b[1;32m    525\u001b[0m \u001b[43m    \u001b[49m\u001b[43m)\u001b[49m\n\u001b[1;32m    526\u001b[0m     async_validation_operator_results\u001b[38;5;241m.\u001b[39mappend(async_validation_operator_result)\n\u001b[1;32m    527\u001b[0m \u001b[38;5;28;01mexcept\u001b[39;00m (\n\u001b[1;32m    528\u001b[0m     gx_exceptions\u001b[38;5;241m.\u001b[39mCheckpointError,\n\u001b[1;32m    529\u001b[0m     gx_exceptions\u001b[38;5;241m.\u001b[39mExecutionEngineError,\n\u001b[1;32m    530\u001b[0m     gx_exceptions\u001b[38;5;241m.\u001b[39mMetricError,\n\u001b[1;32m    531\u001b[0m ) \u001b[38;5;28;01mas\u001b[39;00m e:\n",
      "File \u001b[0;32m/opt/conda/lib/python3.10/site-packages/great_expectations/core/async_executor.py:104\u001b[0m, in \u001b[0;36mAsyncExecutor.submit\u001b[0;34m(self, fn, *args, **kwargs)\u001b[0m\n\u001b[1;32m    100\u001b[0m     \u001b[38;5;28;01mreturn\u001b[39;00m AsyncResult(\n\u001b[1;32m    101\u001b[0m         future\u001b[38;5;241m=\u001b[39m\u001b[38;5;28mself\u001b[39m\u001b[38;5;241m.\u001b[39m_thread_pool_executor\u001b[38;5;241m.\u001b[39msubmit(fn, \u001b[38;5;241m*\u001b[39margs, \u001b[38;5;241m*\u001b[39m\u001b[38;5;241m*\u001b[39mkwargs)  \u001b[38;5;66;03m# type: ignore[union-attr]\u001b[39;00m\n\u001b[1;32m    102\u001b[0m     )\n\u001b[1;32m    103\u001b[0m \u001b[38;5;28;01melse\u001b[39;00m:\n\u001b[0;32m--> 104\u001b[0m     \u001b[38;5;28;01mreturn\u001b[39;00m AsyncResult(value\u001b[38;5;241m=\u001b[39m\u001b[43mfn\u001b[49m\u001b[43m(\u001b[49m\u001b[38;5;241;43m*\u001b[39;49m\u001b[43margs\u001b[49m\u001b[43m,\u001b[49m\u001b[43m \u001b[49m\u001b[38;5;241;43m*\u001b[39;49m\u001b[38;5;241;43m*\u001b[39;49m\u001b[43mkwargs\u001b[49m\u001b[43m)\u001b[49m)\n",
      "File \u001b[0;32m/opt/conda/lib/python3.10/site-packages/great_expectations/validation_operators/validation_operators.py:357\u001b[0m, in \u001b[0;36mActionListValidationOperator.run\u001b[0;34m(self, assets_to_validate, run_id, evaluation_parameters, run_name, run_time, catch_exceptions, result_format, checkpoint_identifier, checkpoint_name, validation_id)\u001b[0m\n\u001b[1;32m    351\u001b[0m     \u001b[38;5;28;01mif\u001b[39;00m checkpoint_name \u001b[38;5;129;01mis\u001b[39;00m \u001b[38;5;129;01mnot\u001b[39;00m \u001b[38;5;28;01mNone\u001b[39;00m:\n\u001b[1;32m    352\u001b[0m         batch_validate_arguments[\u001b[38;5;124m\"\u001b[39m\u001b[38;5;124mcheckpoint_name\u001b[39m\u001b[38;5;124m\"\u001b[39m] \u001b[38;5;241m=\u001b[39m checkpoint_name\n\u001b[1;32m    354\u001b[0m     batch_and_async_result_tuples\u001b[38;5;241m.\u001b[39mappend(\n\u001b[1;32m    355\u001b[0m         (\n\u001b[1;32m    356\u001b[0m             batch,\n\u001b[0;32m--> 357\u001b[0m             \u001b[43masync_executor\u001b[49m\u001b[38;5;241;43m.\u001b[39;49m\u001b[43msubmit\u001b[49m\u001b[43m(\u001b[49m\n\u001b[1;32m    358\u001b[0m \u001b[43m                \u001b[49m\u001b[43mbatch\u001b[49m\u001b[38;5;241;43m.\u001b[39;49m\u001b[43mvalidate\u001b[49m\u001b[43m,\u001b[49m\n\u001b[1;32m    359\u001b[0m \u001b[43m                \u001b[49m\u001b[38;5;241;43m*\u001b[39;49m\u001b[38;5;241;43m*\u001b[39;49m\u001b[43mbatch_validate_arguments\u001b[49m\u001b[43m,\u001b[49m\n\u001b[1;32m    360\u001b[0m \u001b[43m            \u001b[49m\u001b[43m)\u001b[49m,\n\u001b[1;32m    361\u001b[0m         )\n\u001b[1;32m    362\u001b[0m     )\n\u001b[1;32m    364\u001b[0m run_results \u001b[38;5;241m=\u001b[39m {}\n\u001b[1;32m    365\u001b[0m \u001b[38;5;28;01mfor\u001b[39;00m batch, async_batch_validation_result \u001b[38;5;129;01min\u001b[39;00m batch_and_async_result_tuples:\n",
      "File \u001b[0;32m/opt/conda/lib/python3.10/site-packages/great_expectations/core/async_executor.py:104\u001b[0m, in \u001b[0;36mAsyncExecutor.submit\u001b[0;34m(self, fn, *args, **kwargs)\u001b[0m\n\u001b[1;32m    100\u001b[0m     \u001b[38;5;28;01mreturn\u001b[39;00m AsyncResult(\n\u001b[1;32m    101\u001b[0m         future\u001b[38;5;241m=\u001b[39m\u001b[38;5;28mself\u001b[39m\u001b[38;5;241m.\u001b[39m_thread_pool_executor\u001b[38;5;241m.\u001b[39msubmit(fn, \u001b[38;5;241m*\u001b[39margs, \u001b[38;5;241m*\u001b[39m\u001b[38;5;241m*\u001b[39mkwargs)  \u001b[38;5;66;03m# type: ignore[union-attr]\u001b[39;00m\n\u001b[1;32m    102\u001b[0m     )\n\u001b[1;32m    103\u001b[0m \u001b[38;5;28;01melse\u001b[39;00m:\n\u001b[0;32m--> 104\u001b[0m     \u001b[38;5;28;01mreturn\u001b[39;00m AsyncResult(value\u001b[38;5;241m=\u001b[39m\u001b[43mfn\u001b[49m\u001b[43m(\u001b[49m\u001b[38;5;241;43m*\u001b[39;49m\u001b[43margs\u001b[49m\u001b[43m,\u001b[49m\u001b[43m \u001b[49m\u001b[38;5;241;43m*\u001b[39;49m\u001b[38;5;241;43m*\u001b[39;49m\u001b[43mkwargs\u001b[49m\u001b[43m)\u001b[49m)\n",
      "\u001b[0;31mTypeError\u001b[0m: DataAsset.validate() got an unexpected keyword argument 'checkpoint_name'"
     ]
    }
   ],
   "source": [
    "checkpoint = ge.checkpoint.SimpleCheckpoint(\n",
    "    name=\"my_name_checkpoint\",\n",
    "    data_context=context,\n",
    "    validator=ge_results_b\n",
    ")\n",
    "checkpoint_result = checkpoint.run()"
   ]
  },
  {
   "cell_type": "code",
   "execution_count": 31,
   "id": "5c6a5b4b",
   "metadata": {},
   "outputs": [
    {
     "ename": "TypeError",
     "evalue": "<great_expectations.dataset.sparkdf_dataset.SparkDFDataset object at 0x7fe0f1c5a1a0> is of type SparkDFDataset which cannot be serialized.",
     "output_type": "error",
     "traceback": [
      "\u001b[0;31m---------------------------------------------------------------------------\u001b[0m",
      "\u001b[0;31mTypeError\u001b[0m                                 Traceback (most recent call last)",
      "Cell \u001b[0;32mIn[31], line 1\u001b[0m\n\u001b[0;32m----> 1\u001b[0m result \u001b[38;5;241m=\u001b[39m \u001b[43mge_results_a\u001b[49m\u001b[38;5;241;43m.\u001b[39;49m\u001b[43mexpect_column_pair_values_to_be_equal\u001b[49m\u001b[43m(\u001b[49m\u001b[38;5;124;43m'\u001b[39;49m\u001b[38;5;124;43mindex\u001b[39;49m\u001b[38;5;124;43m'\u001b[39;49m\u001b[43m,\u001b[49m\u001b[43m \u001b[49m\u001b[43mge_results_b\u001b[49m\u001b[43m,\u001b[49m\u001b[43m \u001b[49m\u001b[38;5;124;43m'\u001b[39;49m\u001b[38;5;124;43mindex\u001b[39;49m\u001b[38;5;124;43m'\u001b[39;49m\u001b[43m)\u001b[49m\n",
      "File \u001b[0;32m/opt/conda/lib/python3.10/site-packages/great_expectations/data_asset/util.py:76\u001b[0m, in \u001b[0;36mDocInherit.__get__.<locals>.f\u001b[0;34m(*args, **kwargs)\u001b[0m\n\u001b[1;32m     74\u001b[0m \u001b[38;5;129m@wraps\u001b[39m(\u001b[38;5;28mself\u001b[39m\u001b[38;5;241m.\u001b[39mmthd, assigned\u001b[38;5;241m=\u001b[39m(\u001b[38;5;124m\"\u001b[39m\u001b[38;5;124m__name__\u001b[39m\u001b[38;5;124m\"\u001b[39m, \u001b[38;5;124m\"\u001b[39m\u001b[38;5;124m__module__\u001b[39m\u001b[38;5;124m\"\u001b[39m))\n\u001b[1;32m     75\u001b[0m \u001b[38;5;28;01mdef\u001b[39;00m \u001b[38;5;21mf\u001b[39m(\u001b[38;5;241m*\u001b[39margs, \u001b[38;5;241m*\u001b[39m\u001b[38;5;241m*\u001b[39mkwargs):\n\u001b[0;32m---> 76\u001b[0m     \u001b[38;5;28;01mreturn\u001b[39;00m \u001b[38;5;28;43mself\u001b[39;49m\u001b[38;5;241;43m.\u001b[39;49m\u001b[43mmthd\u001b[49m\u001b[43m(\u001b[49m\u001b[43mobj\u001b[49m\u001b[43m,\u001b[49m\u001b[43m \u001b[49m\u001b[38;5;241;43m*\u001b[39;49m\u001b[43margs\u001b[49m\u001b[43m,\u001b[49m\u001b[43m \u001b[49m\u001b[38;5;241;43m*\u001b[39;49m\u001b[38;5;241;43m*\u001b[39;49m\u001b[43mkwargs\u001b[49m\u001b[43m)\u001b[49m\n",
      "File \u001b[0;32m/opt/conda/lib/python3.10/site-packages/great_expectations/data_asset/data_asset.py:223\u001b[0m, in \u001b[0;36mDataAsset.expectation.<locals>.outer_wrapper.<locals>.wrapper\u001b[0;34m(self, *args, **kwargs)\u001b[0m\n\u001b[1;32m    220\u001b[0m     \u001b[38;5;28;01mif\u001b[39;00m \u001b[38;5;124m\"\u001b[39m\u001b[38;5;124mresult_format\u001b[39m\u001b[38;5;124m\"\u001b[39m \u001b[38;5;129;01min\u001b[39;00m all_args:\n\u001b[1;32m    221\u001b[0m         \u001b[38;5;28;01mdel\u001b[39;00m all_args[\u001b[38;5;124m\"\u001b[39m\u001b[38;5;124mresult_format\u001b[39m\u001b[38;5;124m\"\u001b[39m]\n\u001b[0;32m--> 223\u001b[0m all_args \u001b[38;5;241m=\u001b[39m \u001b[43mrecursively_convert_to_json_serializable\u001b[49m\u001b[43m(\u001b[49m\u001b[43mall_args\u001b[49m\u001b[43m)\u001b[49m\n\u001b[1;32m    225\u001b[0m \u001b[38;5;66;03m# Patch in PARAMETER args, and remove locally-supplied arguments\u001b[39;00m\n\u001b[1;32m    226\u001b[0m \u001b[38;5;66;03m# This will become the stored config\u001b[39;00m\n\u001b[1;32m    227\u001b[0m expectation_args \u001b[38;5;241m=\u001b[39m copy\u001b[38;5;241m.\u001b[39mdeepcopy(all_args)\n",
      "File \u001b[0;32m/opt/conda/lib/python3.10/site-packages/great_expectations/data_asset/util.py:121\u001b[0m, in \u001b[0;36mrecursively_convert_to_json_serializable\u001b[0;34m(test_obj)\u001b[0m\n\u001b[1;32m    119\u001b[0m             ensure_row_condition_is_correct(test_obj[key])\n\u001b[1;32m    120\u001b[0m         \u001b[38;5;66;03m# A pandas index can be numeric, and a dict key can be numeric, but a json key must be a string\u001b[39;00m\n\u001b[0;32m--> 121\u001b[0m         new_dict[\u001b[38;5;28mstr\u001b[39m(key)] \u001b[38;5;241m=\u001b[39m \u001b[43mrecursively_convert_to_json_serializable\u001b[49m\u001b[43m(\u001b[49m\u001b[43mtest_obj\u001b[49m\u001b[43m[\u001b[49m\u001b[43mkey\u001b[49m\u001b[43m]\u001b[49m\u001b[43m)\u001b[49m\n\u001b[1;32m    123\u001b[0m     \u001b[38;5;28;01mreturn\u001b[39;00m new_dict\n\u001b[1;32m    125\u001b[0m \u001b[38;5;28;01melif\u001b[39;00m \u001b[38;5;28misinstance\u001b[39m(test_obj, (\u001b[38;5;28mlist\u001b[39m, \u001b[38;5;28mtuple\u001b[39m, \u001b[38;5;28mset\u001b[39m)):\n",
      "File \u001b[0;32m/opt/conda/lib/python3.10/site-packages/great_expectations/data_asset/util.py:190\u001b[0m, in \u001b[0;36mrecursively_convert_to_json_serializable\u001b[0;34m(test_obj)\u001b[0m\n\u001b[1;32m    187\u001b[0m     \u001b[38;5;28;01mreturn\u001b[39;00m \u001b[38;5;28mfloat\u001b[39m(test_obj)\n\u001b[1;32m    189\u001b[0m \u001b[38;5;28;01melse\u001b[39;00m:\n\u001b[0;32m--> 190\u001b[0m     \u001b[38;5;28;01mraise\u001b[39;00m \u001b[38;5;167;01mTypeError\u001b[39;00m(\n\u001b[1;32m    191\u001b[0m         \u001b[38;5;124mf\u001b[39m\u001b[38;5;124m\"\u001b[39m\u001b[38;5;132;01m{\u001b[39;00m\u001b[38;5;28mstr\u001b[39m(test_obj)\u001b[38;5;132;01m}\u001b[39;00m\u001b[38;5;124m is of type \u001b[39m\u001b[38;5;132;01m{\u001b[39;00m\u001b[38;5;28mtype\u001b[39m(test_obj)\u001b[38;5;241m.\u001b[39m\u001b[38;5;18m__name__\u001b[39m\u001b[38;5;132;01m}\u001b[39;00m\u001b[38;5;124m which cannot be serialized.\u001b[39m\u001b[38;5;124m\"\u001b[39m\n\u001b[1;32m    192\u001b[0m     )\n",
      "\u001b[0;31mTypeError\u001b[0m: <great_expectations.dataset.sparkdf_dataset.SparkDFDataset object at 0x7fe0f1c5a1a0> is of type SparkDFDataset which cannot be serialized."
     ]
    }
   ],
   "source": [
    "result = ge_results_a.expect_column_pair_values_to_be_equal('index', ge_results_b, 'index')"
   ]
  },
  {
   "cell_type": "code",
   "execution_count": 47,
   "id": "50e55c25",
   "metadata": {},
   "outputs": [
    {
     "ename": "ConnectionRefusedError",
     "evalue": "[Errno 111] Connection refused",
     "output_type": "error",
     "traceback": [
      "\u001b[0;31m---------------------------------------------------------------------------\u001b[0m",
      "\u001b[0;31mConnectionRefusedError\u001b[0m                    Traceback (most recent call last)",
      "Cell \u001b[0;32mIn[47], line 7\u001b[0m\n\u001b[1;32m      4\u001b[0m \u001b[38;5;28;01mwith\u001b[39;00m \u001b[38;5;28mopen\u001b[39m(\u001b[38;5;124m'\u001b[39m\u001b[38;5;124mmy_expectation_suite.json\u001b[39m\u001b[38;5;124m'\u001b[39m) \u001b[38;5;28;01mas\u001b[39;00m f:\n\u001b[1;32m      5\u001b[0m     my_expectation_suite \u001b[38;5;241m=\u001b[39m json\u001b[38;5;241m.\u001b[39mload(f)\n\u001b[0;32m----> 7\u001b[0m my_df \u001b[38;5;241m=\u001b[39m \u001b[43mSparkDFDataset\u001b[49m\u001b[43m(\u001b[49m\u001b[43mdf_results_b\u001b[49m\u001b[43m)\u001b[49m\n\u001b[1;32m      8\u001b[0m my_df\u001b[38;5;241m.\u001b[39mvalidate()\n",
      "File \u001b[0;32m/opt/conda/lib/python3.10/site-packages/great_expectations/dataset/sparkdf_dataset.py:592\u001b[0m, in \u001b[0;36mSparkDFDataset.__init__\u001b[0;34m(self, spark_df, *args, **kwargs)\u001b[0m\n\u001b[1;32m    590\u001b[0m \u001b[38;5;28mself\u001b[39m\u001b[38;5;241m.\u001b[39m_persist \u001b[38;5;241m=\u001b[39m kwargs\u001b[38;5;241m.\u001b[39mpop(\u001b[38;5;124m\"\u001b[39m\u001b[38;5;124mpersist\u001b[39m\u001b[38;5;124m\"\u001b[39m, \u001b[38;5;28;01mTrue\u001b[39;00m)\n\u001b[1;32m    591\u001b[0m \u001b[38;5;28;01mif\u001b[39;00m \u001b[38;5;28mself\u001b[39m\u001b[38;5;241m.\u001b[39m_persist:\n\u001b[0;32m--> 592\u001b[0m     \u001b[38;5;28;43mself\u001b[39;49m\u001b[38;5;241;43m.\u001b[39;49m\u001b[43mspark_df\u001b[49m\u001b[38;5;241;43m.\u001b[39;49m\u001b[43mpersist\u001b[49m\u001b[43m(\u001b[49m\u001b[43m)\u001b[49m\n\u001b[1;32m    593\u001b[0m \u001b[38;5;28msuper\u001b[39m()\u001b[38;5;241m.\u001b[39m\u001b[38;5;21m__init__\u001b[39m(\u001b[38;5;241m*\u001b[39margs, \u001b[38;5;241m*\u001b[39m\u001b[38;5;241m*\u001b[39mkwargs)\n",
      "File \u001b[0;32m/opt/conda/lib/python3.10/site-packages/pyspark/sql/dataframe.py:948\u001b[0m, in \u001b[0;36mDataFrame.persist\u001b[0;34m(self, storageLevel)\u001b[0m\n\u001b[1;32m    936\u001b[0m \u001b[38;5;250m\u001b[39m\u001b[38;5;124;03m\"\"\"Sets the storage level to persist the contents of the :class:`DataFrame` across\u001b[39;00m\n\u001b[1;32m    937\u001b[0m \u001b[38;5;124;03moperations after the first time it is computed. This can only be used to assign\u001b[39;00m\n\u001b[1;32m    938\u001b[0m \u001b[38;5;124;03ma new storage level if the :class:`DataFrame` does not have a storage level set yet.\u001b[39;00m\n\u001b[0;32m   (...)\u001b[0m\n\u001b[1;32m    945\u001b[0m \u001b[38;5;124;03mThe default storage level has changed to `MEMORY_AND_DISK_DESER` to match Scala in 3.0.\u001b[39;00m\n\u001b[1;32m    946\u001b[0m \u001b[38;5;124;03m\"\"\"\u001b[39;00m\n\u001b[1;32m    947\u001b[0m \u001b[38;5;28mself\u001b[39m\u001b[38;5;241m.\u001b[39mis_cached \u001b[38;5;241m=\u001b[39m \u001b[38;5;28;01mTrue\u001b[39;00m\n\u001b[0;32m--> 948\u001b[0m javaStorageLevel \u001b[38;5;241m=\u001b[39m \u001b[38;5;28;43mself\u001b[39;49m\u001b[38;5;241;43m.\u001b[39;49m\u001b[43m_sc\u001b[49m\u001b[38;5;241;43m.\u001b[39;49m\u001b[43m_getJavaStorageLevel\u001b[49m\u001b[43m(\u001b[49m\u001b[43mstorageLevel\u001b[49m\u001b[43m)\u001b[49m\n\u001b[1;32m    949\u001b[0m \u001b[38;5;28mself\u001b[39m\u001b[38;5;241m.\u001b[39m_jdf\u001b[38;5;241m.\u001b[39mpersist(javaStorageLevel)\n\u001b[1;32m    950\u001b[0m \u001b[38;5;28;01mreturn\u001b[39;00m \u001b[38;5;28mself\u001b[39m\n",
      "File \u001b[0;32m/opt/conda/lib/python3.10/site-packages/pyspark/context.py:1339\u001b[0m, in \u001b[0;36mSparkContext._getJavaStorageLevel\u001b[0;34m(self, storageLevel)\u001b[0m\n\u001b[1;32m   1337\u001b[0m     \u001b[38;5;28;01mraise\u001b[39;00m \u001b[38;5;167;01mTypeError\u001b[39;00m(\u001b[38;5;124m\"\u001b[39m\u001b[38;5;124mstorageLevel must be of type pyspark.StorageLevel\u001b[39m\u001b[38;5;124m\"\u001b[39m)\n\u001b[1;32m   1338\u001b[0m \u001b[38;5;28;01massert\u001b[39;00m \u001b[38;5;28mself\u001b[39m\u001b[38;5;241m.\u001b[39m_jvm \u001b[38;5;129;01mis\u001b[39;00m \u001b[38;5;129;01mnot\u001b[39;00m \u001b[38;5;28;01mNone\u001b[39;00m\n\u001b[0;32m-> 1339\u001b[0m newStorageLevel \u001b[38;5;241m=\u001b[39m \u001b[38;5;28;43mself\u001b[39;49m\u001b[38;5;241;43m.\u001b[39;49m\u001b[43m_jvm\u001b[49m\u001b[38;5;241;43m.\u001b[39;49m\u001b[43morg\u001b[49m\u001b[38;5;241m.\u001b[39mapache\u001b[38;5;241m.\u001b[39mspark\u001b[38;5;241m.\u001b[39mstorage\u001b[38;5;241m.\u001b[39mStorageLevel\n\u001b[1;32m   1340\u001b[0m \u001b[38;5;28;01mreturn\u001b[39;00m newStorageLevel(\n\u001b[1;32m   1341\u001b[0m     storageLevel\u001b[38;5;241m.\u001b[39museDisk,\n\u001b[1;32m   1342\u001b[0m     storageLevel\u001b[38;5;241m.\u001b[39museMemory,\n\u001b[0;32m   (...)\u001b[0m\n\u001b[1;32m   1345\u001b[0m     storageLevel\u001b[38;5;241m.\u001b[39mreplication,\n\u001b[1;32m   1346\u001b[0m )\n",
      "File \u001b[0;32m/opt/conda/lib/python3.10/site-packages/py4j/java_gateway.py:1709\u001b[0m, in \u001b[0;36mJVMView.__getattr__\u001b[0;34m(self, name)\u001b[0m\n\u001b[1;32m   1706\u001b[0m \u001b[38;5;28;01mif\u001b[39;00m name \u001b[38;5;241m==\u001b[39m UserHelpAutoCompletion\u001b[38;5;241m.\u001b[39mKEY:\n\u001b[1;32m   1707\u001b[0m     \u001b[38;5;28;01mreturn\u001b[39;00m UserHelpAutoCompletion()\n\u001b[0;32m-> 1709\u001b[0m answer \u001b[38;5;241m=\u001b[39m \u001b[38;5;28;43mself\u001b[39;49m\u001b[38;5;241;43m.\u001b[39;49m\u001b[43m_gateway_client\u001b[49m\u001b[38;5;241;43m.\u001b[39;49m\u001b[43msend_command\u001b[49m\u001b[43m(\u001b[49m\n\u001b[1;32m   1710\u001b[0m \u001b[43m    \u001b[49m\u001b[43mproto\u001b[49m\u001b[38;5;241;43m.\u001b[39;49m\u001b[43mREFLECTION_COMMAND_NAME\u001b[49m\u001b[43m \u001b[49m\u001b[38;5;241;43m+\u001b[39;49m\n\u001b[1;32m   1711\u001b[0m \u001b[43m    \u001b[49m\u001b[43mproto\u001b[49m\u001b[38;5;241;43m.\u001b[39;49m\u001b[43mREFL_GET_UNKNOWN_SUB_COMMAND_NAME\u001b[49m\u001b[43m \u001b[49m\u001b[38;5;241;43m+\u001b[39;49m\u001b[43m \u001b[49m\u001b[43mname\u001b[49m\u001b[43m \u001b[49m\u001b[38;5;241;43m+\u001b[39;49m\u001b[43m \u001b[49m\u001b[38;5;124;43m\"\u001b[39;49m\u001b[38;5;130;43;01m\\n\u001b[39;49;00m\u001b[38;5;124;43m\"\u001b[39;49m\u001b[43m \u001b[49m\u001b[38;5;241;43m+\u001b[39;49m\u001b[43m \u001b[49m\u001b[38;5;28;43mself\u001b[39;49m\u001b[38;5;241;43m.\u001b[39;49m\u001b[43m_id\u001b[49m\u001b[43m \u001b[49m\u001b[38;5;241;43m+\u001b[39;49m\n\u001b[1;32m   1712\u001b[0m \u001b[43m    \u001b[49m\u001b[38;5;124;43m\"\u001b[39;49m\u001b[38;5;130;43;01m\\n\u001b[39;49;00m\u001b[38;5;124;43m\"\u001b[39;49m\u001b[43m \u001b[49m\u001b[38;5;241;43m+\u001b[39;49m\u001b[43m \u001b[49m\u001b[43mproto\u001b[49m\u001b[38;5;241;43m.\u001b[39;49m\u001b[43mEND_COMMAND_PART\u001b[49m\u001b[43m)\u001b[49m\n\u001b[1;32m   1713\u001b[0m \u001b[38;5;28;01mif\u001b[39;00m answer \u001b[38;5;241m==\u001b[39m proto\u001b[38;5;241m.\u001b[39mSUCCESS_PACKAGE:\n\u001b[1;32m   1714\u001b[0m     \u001b[38;5;28;01mreturn\u001b[39;00m JavaPackage(name, \u001b[38;5;28mself\u001b[39m\u001b[38;5;241m.\u001b[39m_gateway_client, jvm_id\u001b[38;5;241m=\u001b[39m\u001b[38;5;28mself\u001b[39m\u001b[38;5;241m.\u001b[39m_id)\n",
      "File \u001b[0;32m/opt/conda/lib/python3.10/site-packages/py4j/java_gateway.py:1036\u001b[0m, in \u001b[0;36mGatewayClient.send_command\u001b[0;34m(self, command, retry, binary)\u001b[0m\n\u001b[1;32m   1015\u001b[0m \u001b[38;5;28;01mdef\u001b[39;00m \u001b[38;5;21msend_command\u001b[39m(\u001b[38;5;28mself\u001b[39m, command, retry\u001b[38;5;241m=\u001b[39m\u001b[38;5;28;01mTrue\u001b[39;00m, binary\u001b[38;5;241m=\u001b[39m\u001b[38;5;28;01mFalse\u001b[39;00m):\n\u001b[1;32m   1016\u001b[0m \u001b[38;5;250m    \u001b[39m\u001b[38;5;124;03m\"\"\"Sends a command to the JVM. This method is not intended to be\u001b[39;00m\n\u001b[1;32m   1017\u001b[0m \u001b[38;5;124;03m       called directly by Py4J users. It is usually called by\u001b[39;00m\n\u001b[1;32m   1018\u001b[0m \u001b[38;5;124;03m       :class:`JavaMember` instances.\u001b[39;00m\n\u001b[0;32m   (...)\u001b[0m\n\u001b[1;32m   1034\u001b[0m \u001b[38;5;124;03m     if `binary` is `True`.\u001b[39;00m\n\u001b[1;32m   1035\u001b[0m \u001b[38;5;124;03m    \"\"\"\u001b[39;00m\n\u001b[0;32m-> 1036\u001b[0m     connection \u001b[38;5;241m=\u001b[39m \u001b[38;5;28;43mself\u001b[39;49m\u001b[38;5;241;43m.\u001b[39;49m\u001b[43m_get_connection\u001b[49m\u001b[43m(\u001b[49m\u001b[43m)\u001b[49m\n\u001b[1;32m   1037\u001b[0m     \u001b[38;5;28;01mtry\u001b[39;00m:\n\u001b[1;32m   1038\u001b[0m         response \u001b[38;5;241m=\u001b[39m connection\u001b[38;5;241m.\u001b[39msend_command(command)\n",
      "File \u001b[0;32m/opt/conda/lib/python3.10/site-packages/py4j/clientserver.py:284\u001b[0m, in \u001b[0;36mJavaClient._get_connection\u001b[0;34m(self)\u001b[0m\n\u001b[1;32m    281\u001b[0m     \u001b[38;5;28;01mpass\u001b[39;00m\n\u001b[1;32m    283\u001b[0m \u001b[38;5;28;01mif\u001b[39;00m connection \u001b[38;5;129;01mis\u001b[39;00m \u001b[38;5;28;01mNone\u001b[39;00m \u001b[38;5;129;01mor\u001b[39;00m connection\u001b[38;5;241m.\u001b[39msocket \u001b[38;5;129;01mis\u001b[39;00m \u001b[38;5;28;01mNone\u001b[39;00m:\n\u001b[0;32m--> 284\u001b[0m     connection \u001b[38;5;241m=\u001b[39m \u001b[38;5;28;43mself\u001b[39;49m\u001b[38;5;241;43m.\u001b[39;49m\u001b[43m_create_new_connection\u001b[49m\u001b[43m(\u001b[49m\u001b[43m)\u001b[49m\n\u001b[1;32m    285\u001b[0m \u001b[38;5;28;01mreturn\u001b[39;00m connection\n",
      "File \u001b[0;32m/opt/conda/lib/python3.10/site-packages/py4j/clientserver.py:291\u001b[0m, in \u001b[0;36mJavaClient._create_new_connection\u001b[0;34m(self)\u001b[0m\n\u001b[1;32m    287\u001b[0m \u001b[38;5;28;01mdef\u001b[39;00m \u001b[38;5;21m_create_new_connection\u001b[39m(\u001b[38;5;28mself\u001b[39m):\n\u001b[1;32m    288\u001b[0m     connection \u001b[38;5;241m=\u001b[39m ClientServerConnection(\n\u001b[1;32m    289\u001b[0m         \u001b[38;5;28mself\u001b[39m\u001b[38;5;241m.\u001b[39mjava_parameters, \u001b[38;5;28mself\u001b[39m\u001b[38;5;241m.\u001b[39mpython_parameters,\n\u001b[1;32m    290\u001b[0m         \u001b[38;5;28mself\u001b[39m\u001b[38;5;241m.\u001b[39mgateway_property, \u001b[38;5;28mself\u001b[39m)\n\u001b[0;32m--> 291\u001b[0m     \u001b[43mconnection\u001b[49m\u001b[38;5;241;43m.\u001b[39;49m\u001b[43mconnect_to_java_server\u001b[49m\u001b[43m(\u001b[49m\u001b[43m)\u001b[49m\n\u001b[1;32m    292\u001b[0m     \u001b[38;5;28mself\u001b[39m\u001b[38;5;241m.\u001b[39mset_thread_connection(connection)\n\u001b[1;32m    293\u001b[0m     \u001b[38;5;28;01mreturn\u001b[39;00m connection\n",
      "File \u001b[0;32m/opt/conda/lib/python3.10/site-packages/py4j/clientserver.py:438\u001b[0m, in \u001b[0;36mClientServerConnection.connect_to_java_server\u001b[0;34m(self)\u001b[0m\n\u001b[1;32m    435\u001b[0m \u001b[38;5;28;01mif\u001b[39;00m \u001b[38;5;28mself\u001b[39m\u001b[38;5;241m.\u001b[39mssl_context:\n\u001b[1;32m    436\u001b[0m     \u001b[38;5;28mself\u001b[39m\u001b[38;5;241m.\u001b[39msocket \u001b[38;5;241m=\u001b[39m \u001b[38;5;28mself\u001b[39m\u001b[38;5;241m.\u001b[39mssl_context\u001b[38;5;241m.\u001b[39mwrap_socket(\n\u001b[1;32m    437\u001b[0m         \u001b[38;5;28mself\u001b[39m\u001b[38;5;241m.\u001b[39msocket, server_hostname\u001b[38;5;241m=\u001b[39m\u001b[38;5;28mself\u001b[39m\u001b[38;5;241m.\u001b[39mjava_address)\n\u001b[0;32m--> 438\u001b[0m \u001b[38;5;28;43mself\u001b[39;49m\u001b[38;5;241;43m.\u001b[39;49m\u001b[43msocket\u001b[49m\u001b[38;5;241;43m.\u001b[39;49m\u001b[43mconnect\u001b[49m\u001b[43m(\u001b[49m\u001b[43m(\u001b[49m\u001b[38;5;28;43mself\u001b[39;49m\u001b[38;5;241;43m.\u001b[39;49m\u001b[43mjava_address\u001b[49m\u001b[43m,\u001b[49m\u001b[43m \u001b[49m\u001b[38;5;28;43mself\u001b[39;49m\u001b[38;5;241;43m.\u001b[39;49m\u001b[43mjava_port\u001b[49m\u001b[43m)\u001b[49m\u001b[43m)\u001b[49m\n\u001b[1;32m    439\u001b[0m \u001b[38;5;28mself\u001b[39m\u001b[38;5;241m.\u001b[39mstream \u001b[38;5;241m=\u001b[39m \u001b[38;5;28mself\u001b[39m\u001b[38;5;241m.\u001b[39msocket\u001b[38;5;241m.\u001b[39mmakefile(\u001b[38;5;124m\"\u001b[39m\u001b[38;5;124mrb\u001b[39m\u001b[38;5;124m\"\u001b[39m)\n\u001b[1;32m    440\u001b[0m \u001b[38;5;28mself\u001b[39m\u001b[38;5;241m.\u001b[39mis_connected \u001b[38;5;241m=\u001b[39m \u001b[38;5;28;01mTrue\u001b[39;00m\n",
      "\u001b[0;31mConnectionRefusedError\u001b[0m: [Errno 111] Connection refused"
     ]
    }
   ],
   "source": [
    "import json\n",
    "#my_expectation_suite = json.load(\"my_expectation_suite.json\")\n",
    "\n",
    "with open('my_expectation_suite.json') as f:\n",
    "    my_expectation_suite = json.load(f)\n",
    "\n",
    "my_df = SparkDFDataset(df_results_b)\n",
    "my_df.validate()\n"
   ]
  },
  {
   "cell_type": "code",
   "execution_count": 57,
   "id": "84aac633",
   "metadata": {},
   "outputs": [
    {
     "ename": "BatchKwargsError",
     "evalue": "BatchKwargs must be a BatchKwargs object or dictionary.",
     "output_type": "error",
     "traceback": [
      "\u001b[0;31m---------------------------------------------------------------------------\u001b[0m",
      "\u001b[0;31mBatchKwargsError\u001b[0m                          Traceback (most recent call last)",
      "Cell \u001b[0;32mIn[57], line 4\u001b[0m\n\u001b[1;32m      1\u001b[0m \u001b[38;5;66;03m#batch_kwargs = {'dataset': df_results_b, 'datasource': SparkDFDatasource}\u001b[39;00m\n\u001b[0;32m----> 4\u001b[0m batch \u001b[38;5;241m=\u001b[39m \u001b[43mcontext\u001b[49m\u001b[38;5;241;43m.\u001b[39;49m\u001b[43mget_batch\u001b[49m\u001b[43m(\u001b[49m\u001b[43mge_results_b\u001b[49m\u001b[43m,\u001b[49m\u001b[43m \u001b[49m\u001b[38;5;124;43m\"\u001b[39;49m\u001b[38;5;124;43mmy_suite\u001b[39;49m\u001b[38;5;124;43m\"\u001b[39;49m\u001b[43m)\u001b[49m\n",
      "File \u001b[0;32m/opt/conda/lib/python3.10/site-packages/great_expectations/data_context/data_context/abstract_data_context.py:1185\u001b[0m, in \u001b[0;36mAbstractDataContext.get_batch\u001b[0;34m(self, arg1, arg2, arg3, **kwargs)\u001b[0m\n\u001b[1;32m   1183\u001b[0m     data_asset_type \u001b[38;5;241m=\u001b[39m arg3\n\u001b[1;32m   1184\u001b[0m batch_parameters \u001b[38;5;241m=\u001b[39m kwargs\u001b[38;5;241m.\u001b[39mget(\u001b[38;5;124m\"\u001b[39m\u001b[38;5;124mbatch_parameters\u001b[39m\u001b[38;5;124m\"\u001b[39m)\n\u001b[0;32m-> 1185\u001b[0m \u001b[38;5;28;01mreturn\u001b[39;00m \u001b[38;5;28;43mself\u001b[39;49m\u001b[38;5;241;43m.\u001b[39;49m\u001b[43m_get_batch_v2\u001b[49m\u001b[43m(\u001b[49m\n\u001b[1;32m   1186\u001b[0m \u001b[43m    \u001b[49m\u001b[43mbatch_kwargs\u001b[49m\u001b[38;5;241;43m=\u001b[39;49m\u001b[43mbatch_kwargs\u001b[49m\u001b[43m,\u001b[49m\n\u001b[1;32m   1187\u001b[0m \u001b[43m    \u001b[49m\u001b[43mexpectation_suite_name\u001b[49m\u001b[38;5;241;43m=\u001b[39;49m\u001b[43mexpectation_suite_name\u001b[49m\u001b[43m,\u001b[49m\n\u001b[1;32m   1188\u001b[0m \u001b[43m    \u001b[49m\u001b[43mdata_asset_type\u001b[49m\u001b[38;5;241;43m=\u001b[39;49m\u001b[43mdata_asset_type\u001b[49m\u001b[43m,\u001b[49m\n\u001b[1;32m   1189\u001b[0m \u001b[43m    \u001b[49m\u001b[43mbatch_parameters\u001b[49m\u001b[38;5;241;43m=\u001b[39;49m\u001b[43mbatch_parameters\u001b[49m\u001b[43m,\u001b[49m\n\u001b[1;32m   1190\u001b[0m \u001b[43m\u001b[49m\u001b[43m)\u001b[49m\n",
      "File \u001b[0;32m/opt/conda/lib/python3.10/site-packages/great_expectations/data_context/data_context/abstract_data_context.py:1272\u001b[0m, in \u001b[0;36mAbstractDataContext._get_batch_v2\u001b[0;34m(self, batch_kwargs, expectation_suite_name, data_asset_type, batch_parameters)\u001b[0m\n\u001b[1;32m   1269\u001b[0m     batch_kwargs \u001b[38;5;241m=\u001b[39m BatchKwargs(batch_kwargs)\n\u001b[1;32m   1271\u001b[0m \u001b[38;5;28;01mif\u001b[39;00m \u001b[38;5;129;01mnot\u001b[39;00m \u001b[38;5;28misinstance\u001b[39m(batch_kwargs, BatchKwargs):\n\u001b[0;32m-> 1272\u001b[0m     \u001b[38;5;28;01mraise\u001b[39;00m gx_exceptions\u001b[38;5;241m.\u001b[39mBatchKwargsError(\n\u001b[1;32m   1273\u001b[0m         \u001b[38;5;124m\"\u001b[39m\u001b[38;5;124mBatchKwargs must be a BatchKwargs object or dictionary.\u001b[39m\u001b[38;5;124m\"\u001b[39m\n\u001b[1;32m   1274\u001b[0m     )\n\u001b[1;32m   1276\u001b[0m \u001b[38;5;28;01mif\u001b[39;00m \u001b[38;5;129;01mnot\u001b[39;00m \u001b[38;5;28misinstance\u001b[39m(\n\u001b[1;32m   1277\u001b[0m     expectation_suite_name, (ExpectationSuite, ExpectationSuiteIdentifier, \u001b[38;5;28mstr\u001b[39m)\n\u001b[1;32m   1278\u001b[0m ):\n\u001b[1;32m   1279\u001b[0m     \u001b[38;5;28;01mraise\u001b[39;00m gx_exceptions\u001b[38;5;241m.\u001b[39mDataContextError(\n\u001b[1;32m   1280\u001b[0m         \u001b[38;5;124m\"\u001b[39m\u001b[38;5;124mexpectation_suite_name must be an ExpectationSuite, \u001b[39m\u001b[38;5;124m\"\u001b[39m\n\u001b[1;32m   1281\u001b[0m         \u001b[38;5;124m\"\u001b[39m\u001b[38;5;124mExpectationSuiteIdentifier or string.\u001b[39m\u001b[38;5;124m\"\u001b[39m\n\u001b[1;32m   1282\u001b[0m     )\n",
      "\u001b[0;31mBatchKwargsError\u001b[0m: BatchKwargs must be a BatchKwargs object or dictionary."
     ]
    }
   ],
   "source": [
    "batch_kwargs = {'dataset': df_results_b, 'datasource': SparkDFDatasource}\n",
    "\n",
    "\n",
    "batch = context.get_batch(ge_results_b, \"my_suite\")"
   ]
  },
  {
   "cell_type": "code",
   "execution_count": 51,
   "id": "511e9edb",
   "metadata": {},
   "outputs": [
    {
     "name": "stdout",
     "output_type": "stream",
     "text": [
      "my_suite\n"
     ]
    }
   ],
   "source": [
    "for expectation_suite_id in context.list_expectation_suites():\n",
    "    print(expectation_suite_id.expectation_suite_name)"
   ]
  },
  {
   "cell_type": "code",
   "execution_count": 58,
   "id": "4ff93fdc",
   "metadata": {},
   "outputs": [
    {
     "data": {
      "text/plain": [
       "[]"
      ]
     },
     "execution_count": 58,
     "metadata": {},
     "output_type": "execute_result"
    }
   ],
   "source": [
    "[datasource['name'] for datasource in context.list_datasources() if datasource['class_name'] == 'SparkDFDatasource']"
   ]
  }
 ],
 "metadata": {
  "kernelspec": {
   "display_name": "Python 3 (ipykernel)",
   "language": "python",
   "name": "python3"
  },
  "language_info": {
   "codemirror_mode": {
    "name": "ipython",
    "version": 3
   },
   "file_extension": ".py",
   "mimetype": "text/x-python",
   "name": "python",
   "nbconvert_exporter": "python",
   "pygments_lexer": "ipython3",
   "version": "3.10.10"
  }
 },
 "nbformat": 4,
 "nbformat_minor": 5
}
