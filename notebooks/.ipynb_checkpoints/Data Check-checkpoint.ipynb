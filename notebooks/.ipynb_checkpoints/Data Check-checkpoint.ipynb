{
 "cells": [
  {
   "cell_type": "code",
   "execution_count": 1,
   "id": "87d767aa",
   "metadata": {},
   "outputs": [],
   "source": [
    "from dotenv import load_dotenv\n",
    "import os\n",
    "\n",
    "load_dotenv()\n",
    "s3_access_key = os.environ.get(\"S3_ACCESS_KEY\")\n",
    "s3_secret_key = os.environ.get(\"S3_SECRET_KEY\")\n",
    "CORES = 2 # Remember to use 2 cores for laptop work and 4 cores for local machine"
   ]
  },
  {
   "cell_type": "code",
   "execution_count": null,
   "id": "99c9d44c",
   "metadata": {},
   "outputs": [],
   "source": [
    "Common columns\n",
    "Different columns\n",
    "Compare data for common columns in both files\n",
    "Difference in the amount of items stored in each parquet file\n",
    "Count and group the occurrences of the value “trustRate” in each file\n",
    "Count and group the occurrences of the value “humanId” in each file\n",
    "Determine based on the contents of the compared files whether there is a major or critical difference in terms of data\n",
    "Any additional statistical information considered useful is appreciated (within the context of an identity resolution process)\n"
   ]
  },
  {
   "cell_type": "code",
   "execution_count": 2,
   "id": "8a76b63f",
   "metadata": {},
   "outputs": [],
   "source": [
    "from pyspark.sql import SparkSession\n",
    "\n",
    "spark = SparkSession.builder \\\n",
    "    .appName(\"Loyalty\") \\\n",
    "    .config(\"spark.master\", f\"local[{CORES}]\") \\\n",
    "    .config(\"spark.executor.cores\", f\"{CORES}\") \\\n",
    "    .config(\"spark.jars.packages\",\"org.apache.hadoop:hadoop-aws:3.3.1\") \\\n",
    "    .config(\"spark.hadoop.fs.s3a.impl\", \"org.apache.hadoop.fs.s3a.S3AFileSystem\") \\\n",
    "    .config(\"spark.hadoop.fs.s3a.access.key\", s3_access_key) \\\n",
    "    .config(\"spark.hadoop.fs.s3a.secret.key\", s3_secret_key) \\\n",
    "    .getOrCreate()"
   ]
  },
  {
   "cell_type": "code",
   "execution_count": 3,
   "id": "36fe805d",
   "metadata": {},
   "outputs": [
    {
     "name": "stdout",
     "output_type": "stream",
     "text": [
      "+--------+------+------+--------------------+--------+-------+-----+\n",
      "|   index| fname| lname|               email|socialid|country|state|\n",
      "+--------+------+------+--------------------+--------+-------+-----+\n",
      "|r0000001| james|robles|    person1@mail.net|774121t9|     mx|   tj|\n",
      "|r0000002|daniel| boyle|roddaniel445@comp...|998112a4|     ca|   on|\n",
      "|r0000003|  xxxx| xxxxx|              xxxxxx|878445b2|     us|   fl|\n",
      "|r0000004| marie| velez|marie.rodarte123@...|798125x4|     ca|   ot|\n",
      "|r0000005|MARTIN|TORRES|not.provided@abc.com|981210o2|     us|   ca|\n",
      "+--------+------+------+--------------------+--------+-------+-----+\n",
      "only showing top 5 rows\n",
      "\n"
     ]
    }
   ],
   "source": [
    "#Fetch part001 parquet data from S3 \n",
    "df_part001 = spark.read.parquet(\"s3a://data-test-202302/adstra/part001.parquet\")\n",
    "df_part001.createOrReplaceTempView(\"df_part001\")\n",
    "new_df = spark.sql(\"SELECT * FROM df_part001 OFFSET 1\")\n",
    "df_part001 = new_df.toDF(*list(df_part001.first()))\n",
    "df_part001.show(5)"
   ]
  },
  {
   "cell_type": "code",
   "execution_count": 8,
   "id": "e4fd7444",
   "metadata": {},
   "outputs": [],
   "source": [
    "#Fetch results A, B and C parquets data from S3 \n",
    "df_results_a = spark.read.parquet(\"s3a://data-test-202302/adstra/resultsA.parquet\")\n",
    "df_results_b = spark.read.parquet(\"s3a://data-test-202302/adstra/resultsB.parquet\")\n",
    "df_results_c = spark.read.parquet(\"s3a://data-test-202302/adstra/resultsC.parquet\")"
   ]
  },
  {
   "cell_type": "code",
   "execution_count": null,
   "id": "ff33a397",
   "metadata": {},
   "outputs": [],
   "source": []
  }
 ],
 "metadata": {
  "kernelspec": {
   "display_name": "Python 3 (ipykernel)",
   "language": "python",
   "name": "python3"
  },
  "language_info": {
   "codemirror_mode": {
    "name": "ipython",
    "version": 3
   },
   "file_extension": ".py",
   "mimetype": "text/x-python",
   "name": "python",
   "nbconvert_exporter": "python",
   "pygments_lexer": "ipython3",
   "version": "3.10.10"
  }
 },
 "nbformat": 4,
 "nbformat_minor": 5
}
