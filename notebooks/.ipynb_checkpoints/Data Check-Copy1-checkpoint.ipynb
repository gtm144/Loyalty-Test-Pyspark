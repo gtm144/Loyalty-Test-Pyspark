{
 "cells": [
  {
   "cell_type": "code",
   "execution_count": 2,
   "id": "47206a3b",
   "metadata": {},
   "outputs": [],
   "source": [
    "import great_expectations as ge\n",
    "context = ge.data_context.DataContext()"
   ]
  },
  {
   "cell_type": "code",
   "execution_count": 3,
   "id": "87d767aa",
   "metadata": {},
   "outputs": [],
   "source": [
    "from dotenv import load_dotenv\n",
    "from great_expectations.dataset.sparkdf_dataset import SparkDFDataset\n",
    "import os\n",
    "\n",
    "load_dotenv()\n",
    "s3_access_key = os.environ.get(\"S3_ACCESS_KEY\")\n",
    "s3_secret_key = os.environ.get(\"S3_SECRET_KEY\")\n",
    "CORES = 2 # Remember to use 2 cores for laptop work and 4 cores for local machine"
   ]
  },
  {
   "cell_type": "markdown",
   "id": "c8c4e431",
   "metadata": {},
   "source": [
    "- Common columns\n",
    "- Different columns\n",
    "- Compare data for common columns in both files\n",
    "- Difference in the amount of items stored in each parquet file\n",
    "- Count and group the occurrences of the value “trustRate” in each file\n",
    "- Count and group the occurrences of the value “humanId” in each file\n",
    "- Determine based on the contents of the compared files whether there is a major or critical difference in terms of data\n",
    "- Any additional statistical information considered useful is appreciated (within the context of an identity resolution process)\n",
    "\n",
    "1. Compare A to B in notebook with ge\n",
    "2. See how to integrate with CI-CD\n",
    "3. Final work"
   ]
  },
  {
   "cell_type": "code",
   "execution_count": 4,
   "id": "8a76b63f",
   "metadata": {},
   "outputs": [],
   "source": [
    "from pyspark.sql import SparkSession\n",
    "\n",
    "spark = SparkSession.builder \\\n",
    "    .appName(\"Loyalty\") \\\n",
    "    .config(\"spark.master\", f\"local[{CORES}]\") \\\n",
    "    .config(\"spark.executor.cores\", f\"{CORES}\") \\\n",
    "    .config(\"spark.jars.packages\",\"org.apache.hadoop:hadoop-aws:3.3.1\") \\\n",
    "    .config(\"spark.hadoop.fs.s3a.impl\", \"org.apache.hadoop.fs.s3a.S3AFileSystem\") \\\n",
    "    .config(\"spark.hadoop.fs.s3a.access.key\", s3_access_key) \\\n",
    "    .config(\"spark.hadoop.fs.s3a.secret.key\", s3_secret_key) \\\n",
    "    .getOrCreate()"
   ]
  },
  {
   "cell_type": "code",
   "execution_count": 5,
   "id": "e4fd7444",
   "metadata": {},
   "outputs": [],
   "source": [
    "#Fetch results A, B and C parquets data from S3 \n",
    "df_results_a = spark.read.parquet(\"s3a://data-test-202302/adstra/resultsA.parquet\")\n",
    "df_results_b = spark.read.parquet(\"s3a://data-test-202302/adstra/resultsB.parquet\")\n",
    "df_results_c = spark.read.parquet(\"s3a://data-test-202302/adstra/resultsC.parquet\")"
   ]
  },
  {
   "cell_type": "code",
   "execution_count": 6,
   "id": "bf098927",
   "metadata": {},
   "outputs": [
    {
     "name": "stdout",
     "output_type": "stream",
     "text": [
      "+--------+------+------+--------------------+--------+-------+-----+----------+----------+-------+--------------------+---------+\n",
      "|   index| fname| lname|               email|socialid|country|state|    mobile|     phone|zipcode|             humanId|trustRate|\n",
      "+--------+------+------+--------------------+--------+-------+-----+----------+----------+-------+--------------------+---------+\n",
      "|r0000001| james|robles|    person1@mail.net|774121t9|     mx|   tj|9991200767|8881200767|  49162|ae7b5b63-da1c-493...|       80|\n",
      "|r0000002|daniel| boyle|roddaniel445@comp...|998112a4|     ca|   on|9991200610|8881200610|  20883|89abf215-f658-4a0...|       50|\n",
      "|r0000003|  xxxx| xxxxx|              xxxxxx|878445b2|     us|   fl|      null|      null|   null|                null|        0|\n",
      "|r0000004| marie| velez|marie.rodarte123@...|798125x4|     ca|   ot|9991200114|8881200114|  61415|19ce37e6-2edf-41e...|       50|\n",
      "|r0000005|MARTIN|TORRES|not.provided@abc.com|981210o2|     us|   ca|9991200276|8881200276|  61415|3b068d0c-3671-45c...|       60|\n",
      "+--------+------+------+--------------------+--------+-------+-----+----------+----------+-------+--------------------+---------+\n",
      "only showing top 5 rows\n",
      "\n"
     ]
    }
   ],
   "source": [
    "df_results_a.show(5)"
   ]
  },
  {
   "cell_type": "code",
   "execution_count": 7,
   "id": "9fa435e7",
   "metadata": {},
   "outputs": [
    {
     "name": "stdout",
     "output_type": "stream",
     "text": [
      "+--------+------+------+--------------------+--------+-------+----------+----------+------+--------------------+---------+\n",
      "|   index| fname| lname|               email|socialid|country|    mobile|     phone|gender|             humanId|trustRate|\n",
      "+--------+------+------+--------------------+--------+-------+----------+----------+------+--------------------+---------+\n",
      "|r0000001| james|robles|    person1@mail.net|774121t9|     mx|9991200767|8881200767|     f|ae7b5b63-da1c-493...|       99|\n",
      "|r0000002|daniel| boyle|roddaniel445@comp...|998112a4|     ca|9991200610|8881200610|     f|89abf215-f658-4a0...|       50|\n",
      "|r0000003|  xxxx| xxxxx|              xxxxxx|878445b2|     us|      null|      null|  null|                null|        0|\n",
      "|r0000004| marie| velez|marie.rodarte123@...|798125x4|     ca|9991200114|8881200114|     f|19ce36e6-2edf-41e...|       50|\n",
      "|r0000005|MARTIN|TORRES|not.provided@abc.com|981210o2|     us|9991200276|8881200276|     f|3b068d0c-3671-45c...|       60|\n",
      "+--------+------+------+--------------------+--------+-------+----------+----------+------+--------------------+---------+\n",
      "only showing top 5 rows\n",
      "\n"
     ]
    }
   ],
   "source": [
    "df_results_b.show(5)"
   ]
  },
  {
   "cell_type": "code",
   "execution_count": 1,
   "id": "848cc67e",
   "metadata": {},
   "outputs": [
    {
     "name": "stderr",
     "output_type": "stream",
     "text": [
      "/opt/conda/lib/python3.10/site-packages/great_expectations/compatibility/sqlalchemy.py:20: UserWarning: SQLAlchemy v2.0.0 or later is not yet supported by Great Expectations.\n",
      "  warnings.warn(\n"
     ]
    }
   ],
   "source": [
    "import great_expectations as gx\n",
    "context = gx.get_context()"
   ]
  },
  {
   "cell_type": "code",
   "execution_count": 8,
   "id": "99195b7f",
   "metadata": {},
   "outputs": [],
   "source": [
    "suite = context.create_expectation_suite(\"example\")"
   ]
  },
  {
   "cell_type": "code",
   "execution_count": 33,
   "id": "7d2c1790",
   "metadata": {},
   "outputs": [],
   "source": [
    "ge_results_a = SparkDFDataset(df_results_a)"
   ]
  },
  {
   "cell_type": "code",
   "execution_count": 31,
   "id": "d84767af",
   "metadata": {},
   "outputs": [
    {
     "data": {
      "text/plain": [
       "{\n",
       "  \"result\": {\n",
       "    \"element_count\": 14,\n",
       "    \"unexpected_count\": 1,\n",
       "    \"unexpected_percent\": 7.142857142857142,\n",
       "    \"unexpected_percent_total\": 7.142857142857142,\n",
       "    \"partial_unexpected_list\": [\n",
       "      null\n",
       "    ]\n",
       "  },\n",
       "  \"exception_info\": {\n",
       "    \"raised_exception\": false,\n",
       "    \"exception_traceback\": null,\n",
       "    \"exception_message\": null\n",
       "  },\n",
       "  \"success\": false,\n",
       "  \"meta\": {}\n",
       "}"
      ]
     },
     "execution_count": 31,
     "metadata": {},
     "output_type": "execute_result"
    }
   ],
   "source": [
    "ge_results_b = SparkDFDataset(df_results_b)\n",
    "ge_results_b.expect_column_values_to_not_be_null(\"lname\")"
   ]
  },
  {
   "cell_type": "code",
   "execution_count": 32,
   "id": "5e6107e3",
   "metadata": {},
   "outputs": [
    {
     "data": {
      "text/plain": [
       "{\n",
       "  \"data_asset_type\": \"Dataset\",\n",
       "  \"expectation_suite_name\": \"default\",\n",
       "  \"expectations\": [\n",
       "    {\n",
       "      \"meta\": {},\n",
       "      \"expectation_type\": \"expect_column_values_to_not_be_null\",\n",
       "      \"kwargs\": {\n",
       "        \"column\": \"lname\"\n",
       "      }\n",
       "    }\n",
       "  ],\n",
       "  \"ge_cloud_id\": null,\n",
       "  \"meta\": {\n",
       "    \"great_expectations_version\": \"0.16.10\"\n",
       "  }\n",
       "}"
      ]
     },
     "execution_count": 32,
     "metadata": {},
     "output_type": "execute_result"
    }
   ],
   "source": [
    "sui = ge_results_b.get_expectation_suite(discard_failed_expectations=False)\n",
    "sui"
   ]
  },
  {
   "cell_type": "code",
   "execution_count": 34,
   "id": "8ec254cf",
   "metadata": {},
   "outputs": [
    {
     "data": {
      "text/plain": [
       "{\n",
       "  \"results\": [\n",
       "    {\n",
       "      \"result\": {\n",
       "        \"element_count\": 16,\n",
       "        \"unexpected_count\": 1,\n",
       "        \"unexpected_percent\": 6.25,\n",
       "        \"unexpected_percent_total\": 6.25,\n",
       "        \"partial_unexpected_list\": [\n",
       "          null\n",
       "        ]\n",
       "      },\n",
       "      \"exception_info\": {\n",
       "        \"raised_exception\": false,\n",
       "        \"exception_message\": null,\n",
       "        \"exception_traceback\": null\n",
       "      },\n",
       "      \"success\": false,\n",
       "      \"meta\": {},\n",
       "      \"expectation_config\": {\n",
       "        \"meta\": {},\n",
       "        \"expectation_type\": \"expect_column_values_to_not_be_null\",\n",
       "        \"kwargs\": {\n",
       "          \"column\": \"lname\"\n",
       "        }\n",
       "      }\n",
       "    }\n",
       "  ],\n",
       "  \"success\": false,\n",
       "  \"meta\": {\n",
       "    \"great_expectations_version\": \"0.16.10\",\n",
       "    \"expectation_suite_name\": \"default\",\n",
       "    \"run_id\": {\n",
       "      \"run_name\": null,\n",
       "      \"run_time\": \"2023-05-04T00:14:38.508900+00:00\"\n",
       "    },\n",
       "    \"batch_kwargs\": {\n",
       "      \"ge_batch_id\": \"a10da198-ea10-11ed-b42a-0242ac110003\"\n",
       "    },\n",
       "    \"batch_markers\": {},\n",
       "    \"batch_parameters\": {},\n",
       "    \"validation_time\": \"20230504T001438.508836Z\",\n",
       "    \"expectation_suite_meta\": {\n",
       "      \"great_expectations_version\": \"0.16.10\"\n",
       "    }\n",
       "  },\n",
       "  \"evaluation_parameters\": {},\n",
       "  \"statistics\": {\n",
       "    \"evaluated_expectations\": 1,\n",
       "    \"successful_expectations\": 0,\n",
       "    \"unsuccessful_expectations\": 1,\n",
       "    \"success_percent\": 0.0\n",
       "  }\n",
       "}"
      ]
     },
     "execution_count": 34,
     "metadata": {},
     "output_type": "execute_result"
    }
   ],
   "source": [
    "ge_results_a.validate(expectation_suite=sui)"
   ]
  },
  {
   "cell_type": "code",
   "execution_count": 14,
   "id": "bba9d7fa",
   "metadata": {},
   "outputs": [],
   "source": [
    "batch_kwargs = {\n",
    "    \"datasource\": \"here\",\n",
    "    \"dataset\": ge_results_b\n",
    "}"
   ]
  },
  {
   "cell_type": "code",
   "execution_count": 15,
   "id": "14a0155c",
   "metadata": {},
   "outputs": [
    {
     "ename": "ValueError",
     "evalue": "Unable to load datasource `here` -- no configuration found or invalid configuration.",
     "output_type": "error",
     "traceback": [
      "\u001b[0;31m---------------------------------------------------------------------------\u001b[0m",
      "\u001b[0;31mValueError\u001b[0m                                Traceback (most recent call last)",
      "Cell \u001b[0;32mIn[15], line 1\u001b[0m\n\u001b[0;32m----> 1\u001b[0m batch \u001b[38;5;241m=\u001b[39m \u001b[43mcontext\u001b[49m\u001b[38;5;241;43m.\u001b[39;49m\u001b[43mget_batch\u001b[49m\u001b[43m(\u001b[49m\n\u001b[1;32m      2\u001b[0m \u001b[43m    \u001b[49m\u001b[43mbatch_kwargs\u001b[49m\u001b[38;5;241;43m=\u001b[39;49m\u001b[43mbatch_kwargs\u001b[49m\u001b[43m,\u001b[49m\n\u001b[1;32m      3\u001b[0m \u001b[43m    \u001b[49m\u001b[43mexpectation_suite_name\u001b[49m\u001b[38;5;241;43m=\u001b[39;49m\u001b[43msuite\u001b[49m\n\u001b[1;32m      4\u001b[0m \u001b[43m)\u001b[49m\n",
      "File \u001b[0;32m/opt/conda/lib/python3.10/site-packages/great_expectations/data_context/data_context/abstract_data_context.py:1185\u001b[0m, in \u001b[0;36mAbstractDataContext.get_batch\u001b[0;34m(self, arg1, arg2, arg3, **kwargs)\u001b[0m\n\u001b[1;32m   1183\u001b[0m     data_asset_type \u001b[38;5;241m=\u001b[39m arg3\n\u001b[1;32m   1184\u001b[0m batch_parameters \u001b[38;5;241m=\u001b[39m kwargs\u001b[38;5;241m.\u001b[39mget(\u001b[38;5;124m\"\u001b[39m\u001b[38;5;124mbatch_parameters\u001b[39m\u001b[38;5;124m\"\u001b[39m)\n\u001b[0;32m-> 1185\u001b[0m \u001b[38;5;28;01mreturn\u001b[39;00m \u001b[38;5;28;43mself\u001b[39;49m\u001b[38;5;241;43m.\u001b[39;49m\u001b[43m_get_batch_v2\u001b[49m\u001b[43m(\u001b[49m\n\u001b[1;32m   1186\u001b[0m \u001b[43m    \u001b[49m\u001b[43mbatch_kwargs\u001b[49m\u001b[38;5;241;43m=\u001b[39;49m\u001b[43mbatch_kwargs\u001b[49m\u001b[43m,\u001b[49m\n\u001b[1;32m   1187\u001b[0m \u001b[43m    \u001b[49m\u001b[43mexpectation_suite_name\u001b[49m\u001b[38;5;241;43m=\u001b[39;49m\u001b[43mexpectation_suite_name\u001b[49m\u001b[43m,\u001b[49m\n\u001b[1;32m   1188\u001b[0m \u001b[43m    \u001b[49m\u001b[43mdata_asset_type\u001b[49m\u001b[38;5;241;43m=\u001b[39;49m\u001b[43mdata_asset_type\u001b[49m\u001b[43m,\u001b[49m\n\u001b[1;32m   1189\u001b[0m \u001b[43m    \u001b[49m\u001b[43mbatch_parameters\u001b[49m\u001b[38;5;241;43m=\u001b[39;49m\u001b[43mbatch_parameters\u001b[49m\u001b[43m,\u001b[49m\n\u001b[1;32m   1190\u001b[0m \u001b[43m\u001b[49m\u001b[43m)\u001b[49m\n",
      "File \u001b[0;32m/opt/conda/lib/python3.10/site-packages/great_expectations/data_context/data_context/abstract_data_context.py:1296\u001b[0m, in \u001b[0;36mAbstractDataContext._get_batch_v2\u001b[0;34m(self, batch_kwargs, expectation_suite_name, data_asset_type, batch_parameters)\u001b[0m\n\u001b[1;32m   1294\u001b[0m datasource: LegacyDatasource \u001b[38;5;241m|\u001b[39m BaseDatasource \u001b[38;5;241m|\u001b[39m FluentDatasource\n\u001b[1;32m   1295\u001b[0m \u001b[38;5;28;01mif\u001b[39;00m \u001b[38;5;28misinstance\u001b[39m(datasource_name, \u001b[38;5;28mstr\u001b[39m):\n\u001b[0;32m-> 1296\u001b[0m     datasource \u001b[38;5;241m=\u001b[39m \u001b[38;5;28;43mself\u001b[39;49m\u001b[38;5;241;43m.\u001b[39;49m\u001b[43mget_datasource\u001b[49m\u001b[43m(\u001b[49m\u001b[43mdatasource_name\u001b[49m\u001b[43m)\u001b[49m\n\u001b[1;32m   1297\u001b[0m \u001b[38;5;28;01melse\u001b[39;00m:\n\u001b[1;32m   1298\u001b[0m     datasource \u001b[38;5;241m=\u001b[39m \u001b[38;5;28mself\u001b[39m\u001b[38;5;241m.\u001b[39mget_datasource(\u001b[38;5;28;01mNone\u001b[39;00m)  \u001b[38;5;66;03m#  type: ignore[arg-type]\u001b[39;00m\n",
      "File \u001b[0;32m/opt/conda/lib/python3.10/site-packages/great_expectations/data_context/data_context/abstract_data_context.py:1542\u001b[0m, in \u001b[0;36mAbstractDataContext.get_datasource\u001b[0;34m(self, datasource_name)\u001b[0m\n\u001b[1;32m   1538\u001b[0m     \u001b[38;5;28mself\u001b[39m\u001b[38;5;241m.\u001b[39m_cached_datasources[datasource_name]\u001b[38;5;241m.\u001b[39m_data_context \u001b[38;5;241m=\u001b[39m \u001b[38;5;28mself\u001b[39m\n\u001b[1;32m   1539\u001b[0m     \u001b[38;5;28;01mreturn\u001b[39;00m \u001b[38;5;28mself\u001b[39m\u001b[38;5;241m.\u001b[39m_cached_datasources[datasource_name]\n\u001b[1;32m   1541\u001b[0m datasource_config: DatasourceConfig \u001b[38;5;241m|\u001b[39m FluentDatasource \u001b[38;5;241m=\u001b[39m (\n\u001b[0;32m-> 1542\u001b[0m     \u001b[38;5;28;43mself\u001b[39;49m\u001b[38;5;241;43m.\u001b[39;49m\u001b[43m_datasource_store\u001b[49m\u001b[38;5;241;43m.\u001b[39;49m\u001b[43mretrieve_by_name\u001b[49m\u001b[43m(\u001b[49m\u001b[43mdatasource_name\u001b[49m\u001b[38;5;241;43m=\u001b[39;49m\u001b[43mdatasource_name\u001b[49m\u001b[43m)\u001b[49m\n\u001b[1;32m   1543\u001b[0m )\n\u001b[1;32m   1545\u001b[0m datasource: BaseDatasource \u001b[38;5;241m|\u001b[39m LegacyDatasource \u001b[38;5;241m|\u001b[39m FluentDatasource\n\u001b[1;32m   1546\u001b[0m \u001b[38;5;28;01mif\u001b[39;00m \u001b[38;5;28misinstance\u001b[39m(datasource_config, FluentDatasource):\n",
      "File \u001b[0;32m/opt/conda/lib/python3.10/site-packages/great_expectations/data_context/store/datasource_store.py:160\u001b[0m, in \u001b[0;36mDatasourceStore.retrieve_by_name\u001b[0;34m(self, datasource_name)\u001b[0m\n\u001b[1;32m    156\u001b[0m datasource_key: Union[\n\u001b[1;32m    157\u001b[0m     DataContextVariableKey, GXCloudIdentifier\n\u001b[1;32m    158\u001b[0m ] \u001b[38;5;241m=\u001b[39m \u001b[38;5;28mself\u001b[39m\u001b[38;5;241m.\u001b[39mstore_backend\u001b[38;5;241m.\u001b[39mbuild_key(name\u001b[38;5;241m=\u001b[39mdatasource_name)\n\u001b[1;32m    159\u001b[0m \u001b[38;5;28;01mif\u001b[39;00m \u001b[38;5;129;01mnot\u001b[39;00m \u001b[38;5;28mself\u001b[39m\u001b[38;5;241m.\u001b[39mhas_key(datasource_key):  \u001b[38;5;66;03m# noqa: W601\u001b[39;00m\n\u001b[0;32m--> 160\u001b[0m     \u001b[38;5;28;01mraise\u001b[39;00m \u001b[38;5;167;01mValueError\u001b[39;00m(\n\u001b[1;32m    161\u001b[0m         \u001b[38;5;124mf\u001b[39m\u001b[38;5;124m\"\u001b[39m\u001b[38;5;124mUnable to load datasource `\u001b[39m\u001b[38;5;132;01m{\u001b[39;00mdatasource_name\u001b[38;5;132;01m}\u001b[39;00m\u001b[38;5;124m` -- no configuration found or invalid configuration.\u001b[39m\u001b[38;5;124m\"\u001b[39m\n\u001b[1;32m    162\u001b[0m     )\n\u001b[1;32m    164\u001b[0m datasource_config: DatasourceConfig \u001b[38;5;241m=\u001b[39m copy\u001b[38;5;241m.\u001b[39mdeepcopy(\u001b[38;5;28mself\u001b[39m\u001b[38;5;241m.\u001b[39mget(datasource_key))  \u001b[38;5;66;03m# type: ignore[assignment]\u001b[39;00m\n\u001b[1;32m    165\u001b[0m \u001b[38;5;28;01mreturn\u001b[39;00m datasource_config\n",
      "\u001b[0;31mValueError\u001b[0m: Unable to load datasource `here` -- no configuration found or invalid configuration."
     ]
    }
   ],
   "source": [
    "batch = context.get_batch(\n",
    "    batch_kwargs=batch_kwargs,\n",
    "    expectation_suite_name=suite\n",
    ")"
   ]
  },
  {
   "cell_type": "code",
   "execution_count": null,
   "id": "2ada0266",
   "metadata": {},
   "outputs": [],
   "source": []
  }
 ],
 "metadata": {
  "kernelspec": {
   "display_name": "Python 3 (ipykernel)",
   "language": "python",
   "name": "python3"
  },
  "language_info": {
   "codemirror_mode": {
    "name": "ipython",
    "version": 3
   },
   "file_extension": ".py",
   "mimetype": "text/x-python",
   "name": "python",
   "nbconvert_exporter": "python",
   "pygments_lexer": "ipython3",
   "version": "3.10.10"
  }
 },
 "nbformat": 4,
 "nbformat_minor": 5
}
