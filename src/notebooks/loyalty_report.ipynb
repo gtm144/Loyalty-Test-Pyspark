{
 "cells": [
  {
   "cell_type": "markdown",
   "id": "2cce4174",
   "metadata": {},
   "source": [
    "# Loyalty Market Test\n",
    "\n",
    "Data is stored in a S3 bucket, I need to fetch it using a hadoop library and then start testing it.\n",
    "\n",
    "# Data Gathering & Ingestion\n",
    "Before making pipeline or analitycs work, data should be download to the saprk session and fix any issue concerning partitions management. As introduce in the following code:"
   ]
  },
  {
   "cell_type": "code",
   "execution_count": 1,
   "id": "d12d174b",
   "metadata": {},
   "outputs": [
    {
     "ename": "ModuleNotFoundError",
     "evalue": "No module named 'dotenv'",
     "output_type": "error",
     "traceback": [
      "\u001b[0;31m---------------------------------------------------------------------------\u001b[0m",
      "\u001b[0;31mModuleNotFoundError\u001b[0m                       Traceback (most recent call last)",
      "Cell \u001b[0;32mIn[1], line 1\u001b[0m\n\u001b[0;32m----> 1\u001b[0m \u001b[38;5;28;01mfrom\u001b[39;00m \u001b[38;5;21;01mdotenv\u001b[39;00m \u001b[38;5;28;01mimport\u001b[39;00m load_dotenv\n\u001b[1;32m      2\u001b[0m \u001b[38;5;28;01mimport\u001b[39;00m \u001b[38;5;21;01mos\u001b[39;00m\n\u001b[1;32m      4\u001b[0m load_dotenv()\n",
      "\u001b[0;31mModuleNotFoundError\u001b[0m: No module named 'dotenv'"
     ]
    }
   ],
   "source": [
    "from dotenv import load_dotenv\n",
    "import os\n",
    "\n",
    "load_dotenv()\n",
    "s3_access_key = os.environ.get(\"S3_ACCESS_KEY\")\n",
    "s3_secret_key = os.environ.get(\"S3_SECRET_KEY\")\n",
    "CORES = 4 # Remember to use 2 cores for laptop work and 4 cores for local machine"
   ]
  },
  {
   "cell_type": "code",
   "execution_count": 2,
   "id": "b365847e",
   "metadata": {},
   "outputs": [],
   "source": [
    "from pyspark.sql import SparkSession\n",
    "\n",
    "spark = SparkSession.builder \\\n",
    "    .appName(\"Loyalty\") \\\n",
    "    .config(\"spark.master\", \"local[{CORES}]\") \\\n",
    "    .config(\"spark.executor.cores\", \"4\") \\\n",
    "    .config(\"spark.jars.packages\",\"org.apache.hadoop:hadoop-aws:3.3.1\") \\\n",
    "    .config(\"spark.hadoop.fs.s3a.impl\", \"org.apache.hadoop.fs.s3a.S3AFileSystem\") \\\n",
    "    .config(\"spark.hadoop.fs.s3a.access.key\", s3_access_key) \\\n",
    "    .config(\"spark.hadoop.fs.s3a.secret.key\", s3_secret_key) \\\n",
    "    .getOrCreate()"
   ]
  },
  {
   "cell_type": "code",
   "execution_count": 3,
   "id": "70ed4aa3",
   "metadata": {},
   "outputs": [
    {
     "name": "stdout",
     "output_type": "stream",
     "text": [
      "+------------------+------+----------------+----------+-----------+--------+---------+\n",
      "|store_location_key|region|        province|      city|postal_code|  banner|store_num|\n",
      "+------------------+------+----------------+----------+-----------+--------+---------+\n",
      "|              1794|    NA|         ONTARIO|    LONDON|         NA|dc35b695|     1794|\n",
      "|                42|    NA|         ONTARIO|   TORONTO|         NA|dc35b695|       42|\n",
      "|              7218|    NA|         ALBERTA|SLAVE LAKE|         NA| 6e36648|     7218|\n",
      "|              7196|    NA|BRITISH COLUMBIA|  VICTORIA|         NA| 6e36648|     7196|\n",
      "|              7167|    NA|BRITISH COLUMBIA|    SURREY|         NA| 6e36648|     7167|\n",
      "+------------------+------+----------------+----------+-----------+--------+---------+\n",
      "only showing top 5 rows\n",
      "\n"
     ]
    }
   ],
   "source": [
    "# Location dataframe\n",
    "df_loc = spark.read.format(\"csv\").option(\"header\", \"true\") \\\n",
    "        .load(\"s3a://data-test-202302/location.csv\", header=True)\n",
    "df_loc.show(5)"
   ]
  },
  {
   "cell_type": "code",
   "execution_count": 4,
   "id": "c520d201",
   "metadata": {},
   "outputs": [
    {
     "name": "stdout",
     "output_type": "stream",
     "text": [
      "+-----------+---+----------+---------+----------------+----------+--------+\n",
      "|product_key|sku|       upc|item_name|item_description|department|category|\n",
      "+-----------+---+----------+---------+----------------+----------+--------+\n",
      "| 7652613339|  0|7652613339|   324168|              NA|  651b1068|8312aed6|\n",
      "| 1810063322|  0|1810063322|   276973|              NA|  651b1068|7aaa7a34|\n",
      "| 5274585486|  0|5274585486|   794396|              NA|  c81ba571|54ea8364|\n",
      "| 6978362094|  0|6978362094|   510386|              NA|  b947a4a9| 382cf3a|\n",
      "| 6978396053|  0|6978396053|   120105|              NA|  b947a4a9| 382cf3a|\n",
      "+-----------+---+----------+---------+----------------+----------+--------+\n",
      "only showing top 5 rows\n",
      "\n"
     ]
    }
   ],
   "source": [
    "# Product dataframe\n",
    "df_prod = spark.read.format(\"csv\").option(\"header\", \"true\") \\\n",
    "        .load(\"s3a://data-test-202302/product.csv\", header=True)\n",
    "df_prod.show(5)"
   ]
  },
  {
   "cell_type": "markdown",
   "id": "956b1943",
   "metadata": {},
   "source": [
    "# Prepare & Cleanse the data in memory\n",
    "\n",
    "Clean first partitions"
   ]
  },
  {
   "cell_type": "code",
   "execution_count": 5,
   "id": "2652349f",
   "metadata": {},
   "outputs": [
    {
     "name": "stdout",
     "output_type": "stream",
     "text": [
      "+-------------+----------+------------------+---------------+-----+-----+--------------------+\n",
      "|collector_key|  trans_dt|store_location_key|    product_key|sales|units|           trans_key|\n",
      "+-------------+----------+------------------+---------------+-----+-----+--------------------+\n",
      "|           -1|2015-10-28|              6973|999999999999513| 0.00|    1|31575569731182201...|\n",
      "|           -1|2015-07-24|              6973|    77105810883| 8.53|    1|31216969731182201...|\n",
      "| 141178981825|2015-12-14|              6973|    30041060552|11.55|    1|31755569731182201...|\n",
      "|           -1|2015-04-10|              6973|999999999999142| 0.00|    1|30763169731182201...|\n",
      "| 139518403300|2015-10-14|              6973|999999999999513| 0.00|    1|31520469731182201...|\n",
      "+-------------+----------+------------------+---------------+-----+-----+--------------------+\n",
      "only showing top 5 rows\n",
      "\n"
     ]
    }
   ],
   "source": [
    "# Trans fact dataframe: When there's multiples files with the same schema and name, put it on\n",
    "# a folder and download it as a single dataframe. Tran_sac is a dataframe created by 10 csv  \n",
    "df_trans = spark.read.format(\"csv\").option(\"header\", \"true\") \\\n",
    "        .load(\"s3a://data-test-202302/trans_fact/*\", header=True)\n",
    "df_trans.show(5)"
   ]
  },
  {
   "cell_type": "markdown",
   "id": "c3c14eac",
   "metadata": {},
   "source": [
    "## Understand work around partitions\n",
    "To use the most of cores, partitions must be in multiples of number of cores in order to take the most advantage of processing power. \n",
    "\n",
    "**- On Laptop** The number of partitions processs by a core would be 2.\n",
    "\n",
    "**- On Local machine** The number of partitions processs by a core would be just one.\n",
    "\n",
    "As its expected, on laptop it would take more time to process data\n",
    "\n",
    "TODO Show processing times and analyse spark UI"
   ]
  },
  {
   "cell_type": "code",
   "execution_count": 6,
   "id": "3067f6e5",
   "metadata": {},
   "outputs": [
    {
     "name": "stdout",
     "output_type": "stream",
     "text": [
      "Number of partitions in location file:  1\n",
      "Number of partitions in production file:  4\n",
      "Number of partitions in transactional files:  4\n"
     ]
    }
   ],
   "source": [
    "print(\"Number of partitions in location file: \",df_loc.rdd.getNumPartitions())\n",
    "print(\"Number of partitions in production file: \",df_prod.rdd.getNumPartitions())\n",
    "print(\"Number of partitions in transactional files: \",df_trans.rdd.getNumPartitions())"
   ]
  },
  {
   "cell_type": "markdown",
   "id": "ec40d209",
   "metadata": {},
   "source": [
    "\n",
    "## Skewing data Issues\n",
    "As we can see, Partition 3 shown in product and transactional dataframes is uneven compared to others partitions."
   ]
  },
  {
   "cell_type": "code",
   "execution_count": 7,
   "id": "cf0491b5",
   "metadata": {},
   "outputs": [
    {
     "name": "stdout",
     "output_type": "stream",
     "text": [
      "Partitions in product file\n",
      "Partition 0: 11.01880656513156 MB\n",
      "Partition 1: 11.032692142632348 MB\n",
      "Partition 2: 11.02428068703091 MB\n",
      "Partition 3: 6.867753225821834 MB\n",
      "Partitions in transaction files\n",
      "Partition 0: 4.00545504830388 MB\n",
      "Partition 1: 4.00545504830388 MB\n",
      "Partition 2: 4.00545504830388 MB\n",
      "Partition 3: 1.3351516827679601 MB\n"
     ]
    }
   ],
   "source": [
    "partition_sizes_prod = df_prod.rdd.mapPartitions(lambda partition: [sum(map(len, partition))]).collect()\n",
    "print(\"Partitions in product file\")\n",
    "for i, size in enumerate(partition_sizes_prod):\n",
    "    print(f\"Partition {i}: {size/104857} MB\")\n",
    "\n",
    "partition_sizes_trans = df_trans.rdd.mapPartitions(lambda partition: [sum(map(len, partition))]).collect()\n",
    "print(\"Partitions in transaction files\")\n",
    "for i, size in enumerate(partition_sizes_trans):\n",
    "    print(f\"Partition {i}: {size/104857} MB\")"
   ]
  },
  {
   "cell_type": "code",
   "execution_count": 8,
   "id": "dea53ee5",
   "metadata": {},
   "outputs": [
    {
     "data": {
      "image/png": "[encoded data removed]",
      "text/plain": [
       "<Figure size 800x150 with 2 Axes>"
      ]
     },
     "metadata": {},
     "output_type": "display_data"
    }
   ],
   "source": [
    "import matplotlib.pyplot as plt\n",
    "\n",
    "plot, (part_sizes_prod, part_sizes_trans) = plt.subplots(1, 2, figsize=(8, 1.5))\n",
    "\n",
    "part_sizes_prod.bar(range(len(partition_sizes_prod)), partition_sizes_prod)[-1].set_color('r')\n",
    "part_sizes_trans.bar(range(len(partition_sizes_trans)), partition_sizes_trans)[-1].set_color('r')\n",
    "part_sizes_prod.set_title('Partitions product dataframe')\n",
    "part_sizes_trans.set_title('Partitions transactional dataframe')\n",
    "plot.tight_layout()\n",
    "plot.show()"
   ]
  },
  {
   "cell_type": "markdown",
   "id": "60db7f21",
   "metadata": {},
   "source": [
    "In order to fix it, repartition command would be used to unskew partitions. However, this won't be necessary in a normal pipeline given the small amount of data worked here because it won't be worth it to spend the computing power in this task."
   ]
  },
  {
   "cell_type": "code",
   "execution_count": 9,
   "id": "3307e65a",
   "metadata": {},
   "outputs": [
    {
     "name": "stdout",
     "output_type": "stream",
     "text": [
      "Partitions in product file\n",
      "Partition 0: 9.985866465758127 MB\n",
      "Partition 1: 9.985999980926405 MB\n",
      "Partition 2: 9.985866465758127 MB\n",
      "Partition 3: 9.985799708173989 MB\n",
      "Partitions in transaction files\n",
      "Partition 0: 3.3378792069199004 MB\n",
      "Partition 1: 3.3378792069199004 MB\n",
      "Partition 2: 3.3378792069199004 MB\n",
      "Partition 3: 3.3378792069199004 MB\n"
     ]
    }
   ],
   "source": [
    "df_prod_r = df_prod.repartition(4)\n",
    "df_trans_r = df_trans.repartition(4)\n",
    "partition_sizes_prod_r = df_prod_r.rdd.mapPartitions(lambda partition: [sum(map(len, partition))]).collect()\n",
    "print(\"Partitions in product file\")\n",
    "for i, size in enumerate(partition_sizes_prod_r):\n",
    "    print(f\"Partition {i}: {size/104857} MB\")\n",
    "\n",
    "partition_sizes_trans_r = df_trans_r.rdd.mapPartitions(lambda partition: [sum(map(len, partition))]).collect()\n",
    "print(\"Partitions in transaction files\")\n",
    "for i, size in enumerate(partition_sizes_trans_r):\n",
    "    print(f\"Partition {i}: {size/104857} MB\")"
   ]
  },
  {
   "cell_type": "code",
   "execution_count": 10,
   "id": "4e58ac7d",
   "metadata": {},
   "outputs": [
    {
     "data": {
      "image/png": "[encoded data removed]",
      "text/plain": [
       "<Figure size 800x150 with 2 Axes>"
      ]
     },
     "metadata": {},
     "output_type": "display_data"
    }
   ],
   "source": [
    "plot, (part_sizes_prod, part_sizes_trans) = plt.subplots(1, 2, figsize=(8, 1.5))\n",
    "part_sizes_prod.bar(range(len(partition_sizes_prod_r)), partition_sizes_prod_r, color='g')\n",
    "part_sizes_trans.bar(range(len(partition_sizes_trans_r)), partition_sizes_prod_r, color='g')\n",
    "part_sizes_prod.set_title('Partitions product dataframe')\n",
    "part_sizes_trans.set_title('Partitions transactional dataframe')\n",
    "plot.tight_layout()\n",
    "plot.show()"
   ]
  },
  {
   "cell_type": "markdown",
   "id": "517fcddf",
   "metadata": {},
   "source": [
    "## Cleanse data from Null records\n",
    "Replacing any null sales and null units with zero"
   ]
  },
  {
   "cell_type": "code",
   "execution_count": 11,
   "id": "d9dd71e3",
   "metadata": {},
   "outputs": [
    {
     "name": "stdout",
     "output_type": "stream",
     "text": [
      "+-------------+----------+------------------+---------------+-----+-----+--------------------+\n",
      "|collector_key|  trans_dt|store_location_key|    product_key|sales|units|           trans_key|\n",
      "+-------------+----------+------------------+---------------+-----+-----+--------------------+\n",
      "|           -1|2015-10-28|              6973|999999999999513| 0.00|    1|31575569731182201...|\n",
      "|           -1|2015-07-24|              6973|    77105810883| 8.53|    1|31216969731182201...|\n",
      "+-------------+----------+------------------+---------------+-----+-----+--------------------+\n",
      "only showing top 2 rows\n",
      "\n"
     ]
    }
   ],
   "source": [
    "from pyspark.sql.functions import when, col\n",
    "\n",
    "df_trans = df_trans.withColumn(\"sales\", when(col(\"sales\").isNull(), 0).otherwise(col(\"sales\")))\n",
    "df_trans = df_trans.withColumn(\"units\", when(col(\"units\").isNull(), 0).otherwise(col(\"units\")))\n",
    "df_trans.show(2)"
   ]
  },
  {
   "cell_type": "code",
   "execution_count": 12,
   "id": "d42aed9c",
   "metadata": {},
   "outputs": [
    {
     "name": "stdout",
     "output_type": "stream",
     "text": [
      "+-------------+---------------+------------------+-----------+-----+-----+--------------------+\n",
      "|collector_key|       trans_dt|store_location_key|product_key|sales|units|           trans_key|\n",
      "+-------------+---------------+------------------+-----------+-----+-----+--------------------+\n",
      "|         1396|999999999999513|                -1| 2015-08-19| 0.00|    1|61457813961182201...|\n",
      "|         8142|999999999999513|                -1| 2015-10-13| 0.00|    1|42785814211822015...|\n",
      "+-------------+---------------+------------------+-----------+-----+-----+--------------------+\n",
      "only showing top 2 rows\n",
      "\n"
     ]
    }
   ],
   "source": [
    "df_trans_r = df_trans_r.withColumn(\"sales\", when(col(\"sales\").isNull(), 0).otherwise(col(\"sales\")))\n",
    "df_trans_r = df_trans_r.withColumn(\"units\", when(col(\"units\").isNull(), 0).otherwise(col(\"units\")))\n",
    "df_trans_r.show(2)"
   ]
  },
  {
   "cell_type": "code",
   "execution_count": 13,
   "id": "7d7be861",
   "metadata": {},
   "outputs": [
    {
     "name": "stdout",
     "output_type": "stream",
     "text": [
      "+-------------+----------+------------------+---------------+-----+-----+--------------------+------------+\n",
      "|collector_key|  trans_dt|store_location_key|    product_key|sales|units|           trans_key|col1_is_zero|\n",
      "+-------------+----------+------------------+---------------+-----+-----+--------------------+------------+\n",
      "|           -1|2015-10-28|              6973|999999999999513| 0.00|    1|31575569731182201...|       false|\n",
      "|           -1|2015-07-24|              6973|    77105810883| 8.53|    1|31216969731182201...|        true|\n",
      "+-------------+----------+------------------+---------------+-----+-----+--------------------+------------+\n",
      "only showing top 2 rows\n",
      "\n"
     ]
    }
   ],
   "source": [
    "df_trans = df_trans.withColumn(\"col1_is_zero\", when(col(\"sales\") == 0, False).otherwise(True))\n",
    "df_trans.show(2)"
   ]
  },
  {
   "cell_type": "code",
   "execution_count": 14,
   "id": "18514223",
   "metadata": {},
   "outputs": [
    {
     "name": "stdout",
     "output_type": "stream",
     "text": [
      "+-------------+---------------+------------------+-----------+-----+-----+--------------------+------------+\n",
      "|collector_key|       trans_dt|store_location_key|product_key|sales|units|           trans_key|col1_is_zero|\n",
      "+-------------+---------------+------------------+-----------+-----+-----+--------------------+------------+\n",
      "|         1396|999999999999513|                -1| 2015-08-19| 0.00|    1|61457813961182201...|       false|\n",
      "|         8142|999999999999513|                -1| 2015-10-13| 0.00|    1|42785814211822015...|       false|\n",
      "+-------------+---------------+------------------+-----------+-----+-----+--------------------+------------+\n",
      "only showing top 2 rows\n",
      "\n"
     ]
    }
   ],
   "source": [
    "df_trans_r = df_trans_r.withColumn(\"col1_is_zero\", when(col(\"sales\") == 0, False).otherwise(True))\n",
    "df_trans_r.show(2)"
   ]
  },
  {
   "cell_type": "code",
   "execution_count": null,
   "id": "c460a00a",
   "metadata": {},
   "outputs": [],
   "source": []
  },
  {
   "cell_type": "code",
   "execution_count": null,
   "id": "7cc16fa3",
   "metadata": {},
   "outputs": [],
   "source": []
  },
  {
   "cell_type": "code",
   "execution_count": null,
   "id": "58ae1019",
   "metadata": {},
   "outputs": [],
   "source": []
  }
 ],
 "metadata": {
  "kernelspec": {
   "display_name": "Python 3 (ipykernel)",
   "language": "python",
   "name": "python3"
  },
  "language_info": {
   "codemirror_mode": {
    "name": "ipython",
    "version": 3
   },
   "file_extension": ".py",
   "mimetype": "text/x-python",
   "name": "python",
   "nbconvert_exporter": "python",
   "pygments_lexer": "ipython3",
   "version": "3.10.9"
  }
 },
 "nbformat": 4,
 "nbformat_minor": 5
}
